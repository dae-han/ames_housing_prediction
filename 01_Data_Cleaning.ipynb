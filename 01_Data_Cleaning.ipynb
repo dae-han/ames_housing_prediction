{
 "cells": [
  {
   "cell_type": "markdown",
   "metadata": {},
   "source": [
    "# 01. Data Cleaning\n",
    "\n",
    "---\n",
    "\n",
    "In this notebook, I clean the dataset by executing the following.\n",
    "    - 1) Imputing null values\n",
    "    - 2) Detecting typos and correcting them\n",
    "    - 3) Turning non-numeric features and categorical features into quantatative numeric feature."
   ]
  },
  {
   "cell_type": "code",
   "execution_count": 1,
   "metadata": {},
   "outputs": [],
   "source": [
    "# Import libraries\n",
    "\n",
    "import pandas as pd\n",
    "import numpy as np\n",
    "import matplotlib.pyplot as plt\n",
    "import seaborn as sns\n",
    "\n",
    "%matplotlib inline"
   ]
  },
  {
   "cell_type": "code",
   "execution_count": 2,
   "metadata": {},
   "outputs": [],
   "source": [
    "# Read in train data\n",
    "\n",
    "df = pd.read_csv('./datasets/train.csv')"
   ]
  },
  {
   "cell_type": "code",
   "execution_count": 3,
   "metadata": {},
   "outputs": [
    {
     "data": {
      "text/html": [
       "<div>\n",
       "<style scoped>\n",
       "    .dataframe tbody tr th:only-of-type {\n",
       "        vertical-align: middle;\n",
       "    }\n",
       "\n",
       "    .dataframe tbody tr th {\n",
       "        vertical-align: top;\n",
       "    }\n",
       "\n",
       "    .dataframe thead th {\n",
       "        text-align: right;\n",
       "    }\n",
       "</style>\n",
       "<table border=\"1\" class=\"dataframe\">\n",
       "  <thead>\n",
       "    <tr style=\"text-align: right;\">\n",
       "      <th></th>\n",
       "      <th>Id</th>\n",
       "      <th>PID</th>\n",
       "      <th>MS SubClass</th>\n",
       "      <th>MS Zoning</th>\n",
       "      <th>Lot Frontage</th>\n",
       "      <th>Lot Area</th>\n",
       "      <th>Street</th>\n",
       "      <th>Alley</th>\n",
       "      <th>Lot Shape</th>\n",
       "      <th>Land Contour</th>\n",
       "      <th>...</th>\n",
       "      <th>Screen Porch</th>\n",
       "      <th>Pool Area</th>\n",
       "      <th>Pool QC</th>\n",
       "      <th>Fence</th>\n",
       "      <th>Misc Feature</th>\n",
       "      <th>Misc Val</th>\n",
       "      <th>Mo Sold</th>\n",
       "      <th>Yr Sold</th>\n",
       "      <th>Sale Type</th>\n",
       "      <th>SalePrice</th>\n",
       "    </tr>\n",
       "  </thead>\n",
       "  <tbody>\n",
       "    <tr>\n",
       "      <th>0</th>\n",
       "      <td>109</td>\n",
       "      <td>533352170</td>\n",
       "      <td>60</td>\n",
       "      <td>RL</td>\n",
       "      <td>NaN</td>\n",
       "      <td>13517</td>\n",
       "      <td>Pave</td>\n",
       "      <td>NaN</td>\n",
       "      <td>IR1</td>\n",
       "      <td>Lvl</td>\n",
       "      <td>...</td>\n",
       "      <td>0</td>\n",
       "      <td>0</td>\n",
       "      <td>NaN</td>\n",
       "      <td>NaN</td>\n",
       "      <td>NaN</td>\n",
       "      <td>0</td>\n",
       "      <td>3</td>\n",
       "      <td>2010</td>\n",
       "      <td>WD</td>\n",
       "      <td>130500</td>\n",
       "    </tr>\n",
       "    <tr>\n",
       "      <th>1</th>\n",
       "      <td>544</td>\n",
       "      <td>531379050</td>\n",
       "      <td>60</td>\n",
       "      <td>RL</td>\n",
       "      <td>43.0</td>\n",
       "      <td>11492</td>\n",
       "      <td>Pave</td>\n",
       "      <td>NaN</td>\n",
       "      <td>IR1</td>\n",
       "      <td>Lvl</td>\n",
       "      <td>...</td>\n",
       "      <td>0</td>\n",
       "      <td>0</td>\n",
       "      <td>NaN</td>\n",
       "      <td>NaN</td>\n",
       "      <td>NaN</td>\n",
       "      <td>0</td>\n",
       "      <td>4</td>\n",
       "      <td>2009</td>\n",
       "      <td>WD</td>\n",
       "      <td>220000</td>\n",
       "    </tr>\n",
       "    <tr>\n",
       "      <th>2</th>\n",
       "      <td>153</td>\n",
       "      <td>535304180</td>\n",
       "      <td>20</td>\n",
       "      <td>RL</td>\n",
       "      <td>68.0</td>\n",
       "      <td>7922</td>\n",
       "      <td>Pave</td>\n",
       "      <td>NaN</td>\n",
       "      <td>Reg</td>\n",
       "      <td>Lvl</td>\n",
       "      <td>...</td>\n",
       "      <td>0</td>\n",
       "      <td>0</td>\n",
       "      <td>NaN</td>\n",
       "      <td>NaN</td>\n",
       "      <td>NaN</td>\n",
       "      <td>0</td>\n",
       "      <td>1</td>\n",
       "      <td>2010</td>\n",
       "      <td>WD</td>\n",
       "      <td>109000</td>\n",
       "    </tr>\n",
       "    <tr>\n",
       "      <th>3</th>\n",
       "      <td>318</td>\n",
       "      <td>916386060</td>\n",
       "      <td>60</td>\n",
       "      <td>RL</td>\n",
       "      <td>73.0</td>\n",
       "      <td>9802</td>\n",
       "      <td>Pave</td>\n",
       "      <td>NaN</td>\n",
       "      <td>Reg</td>\n",
       "      <td>Lvl</td>\n",
       "      <td>...</td>\n",
       "      <td>0</td>\n",
       "      <td>0</td>\n",
       "      <td>NaN</td>\n",
       "      <td>NaN</td>\n",
       "      <td>NaN</td>\n",
       "      <td>0</td>\n",
       "      <td>4</td>\n",
       "      <td>2010</td>\n",
       "      <td>WD</td>\n",
       "      <td>174000</td>\n",
       "    </tr>\n",
       "    <tr>\n",
       "      <th>4</th>\n",
       "      <td>255</td>\n",
       "      <td>906425045</td>\n",
       "      <td>50</td>\n",
       "      <td>RL</td>\n",
       "      <td>82.0</td>\n",
       "      <td>14235</td>\n",
       "      <td>Pave</td>\n",
       "      <td>NaN</td>\n",
       "      <td>IR1</td>\n",
       "      <td>Lvl</td>\n",
       "      <td>...</td>\n",
       "      <td>0</td>\n",
       "      <td>0</td>\n",
       "      <td>NaN</td>\n",
       "      <td>NaN</td>\n",
       "      <td>NaN</td>\n",
       "      <td>0</td>\n",
       "      <td>3</td>\n",
       "      <td>2010</td>\n",
       "      <td>WD</td>\n",
       "      <td>138500</td>\n",
       "    </tr>\n",
       "  </tbody>\n",
       "</table>\n",
       "<p>5 rows × 81 columns</p>\n",
       "</div>"
      ],
      "text/plain": [
       "    Id        PID  MS SubClass MS Zoning  Lot Frontage  Lot Area Street Alley  \\\n",
       "0  109  533352170           60        RL           NaN     13517   Pave   NaN   \n",
       "1  544  531379050           60        RL          43.0     11492   Pave   NaN   \n",
       "2  153  535304180           20        RL          68.0      7922   Pave   NaN   \n",
       "3  318  916386060           60        RL          73.0      9802   Pave   NaN   \n",
       "4  255  906425045           50        RL          82.0     14235   Pave   NaN   \n",
       "\n",
       "  Lot Shape Land Contour  ... Screen Porch Pool Area Pool QC Fence  \\\n",
       "0       IR1          Lvl  ...            0         0     NaN   NaN   \n",
       "1       IR1          Lvl  ...            0         0     NaN   NaN   \n",
       "2       Reg          Lvl  ...            0         0     NaN   NaN   \n",
       "3       Reg          Lvl  ...            0         0     NaN   NaN   \n",
       "4       IR1          Lvl  ...            0         0     NaN   NaN   \n",
       "\n",
       "  Misc Feature Misc Val Mo Sold Yr Sold  Sale Type  SalePrice  \n",
       "0          NaN        0       3    2010        WD      130500  \n",
       "1          NaN        0       4    2009        WD      220000  \n",
       "2          NaN        0       1    2010        WD      109000  \n",
       "3          NaN        0       4    2010        WD      174000  \n",
       "4          NaN        0       3    2010        WD      138500  \n",
       "\n",
       "[5 rows x 81 columns]"
      ]
     },
     "execution_count": 3,
     "metadata": {},
     "output_type": "execute_result"
    }
   ],
   "source": [
    "df.head()"
   ]
  },
  {
   "cell_type": "markdown",
   "metadata": {},
   "source": [
    "# Feature Classification\n",
    "Feature columns were saparated into two big categories as following\n",
    "1. `numeric_cols`: columns with numeric data type                    \n",
    "    1-1. `quantatative_cols`: columns with quantatative values                 \n",
    "    1-2. `categorical_cols`: columns that use numbers as category\n",
    "2. `non_numeric_cols`: columns with non-numeric data type (string etc.)"
   ]
  },
  {
   "cell_type": "code",
   "execution_count": 4,
   "metadata": {},
   "outputs": [],
   "source": [
    "# type_df: dictionary of column's types\n",
    "type_df = pd.DataFrame(df.dtypes, columns= {'type':0})\n",
    "\n",
    "# numeric_cols: list of column names with numeric type (int, float)\n",
    "numeric_cols = list(type_df.loc[(type_df['type']== type(1))|(type_df['type']== type(1.1)), :].index)\n",
    "\n",
    "# quantatative_cols: list of column names with quantatative data type\n",
    "quantatative_cols = numeric_cols[3:5]+numeric_cols[9:26]+numeric_cols[27:36]+numeric_cols[38:]\n",
    "\n",
    "# categorical_cols: list of numerical columns that are categorical\n",
    "categorical_cols = [numeric_cols[2]] + numeric_cols[5:9] + [numeric_cols[26]] + numeric_cols[36:38]\n",
    "\n",
    "# non-numeric cols:\n",
    "non_numeric_cols = list(type_df.loc[(type_df['type']== type_df.loc[ 'MS Zoning' , :][0] ), :].index)"
   ]
  },
  {
   "cell_type": "markdown",
   "metadata": {},
   "source": [
    "# Cleaning\n",
    "\n",
    "1. Quantatative features (`quantatative_cols`)              \n",
    "2. Categorical features (`categorical_cols`)\n",
    "3. non-numeric features (`non_numeric_cols`)"
   ]
  },
  {
   "cell_type": "markdown",
   "metadata": {},
   "source": [
    "<a id='quan'></a>\n",
    "### 1. Quantatative Features"
   ]
  },
  {
   "cell_type": "code",
   "execution_count": 5,
   "metadata": {},
   "outputs": [
    {
     "data": {
      "text/plain": [
       "Half Bath            0\n",
       "Pool Area            0\n",
       "Screen Porch         0\n",
       "3Ssn Porch           0\n",
       "Enclosed Porch       0\n",
       "Open Porch SF        0\n",
       "Wood Deck SF         0\n",
       "Fireplaces           0\n",
       "TotRms AbvGrd        0\n",
       "Kitchen AbvGr        0\n",
       "Bedroom AbvGr        0\n",
       "Misc Val             0\n",
       "Full Bath            0\n",
       "SalePrice            0\n",
       "Gr Liv Area          0\n",
       "Low Qual Fin SF      0\n",
       "2nd Flr SF           0\n",
       "1st Flr SF           0\n",
       "Lot Area             0\n",
       "Garage Cars          1\n",
       "Garage Area          1\n",
       "Total Bsmt SF        1\n",
       "Bsmt Unf SF          1\n",
       "BsmtFin SF 2         1\n",
       "BsmtFin SF 1         1\n",
       "Bsmt Full Bath       2\n",
       "Bsmt Half Bath       2\n",
       "Mas Vnr Area        22\n",
       "Lot Frontage       330\n",
       "dtype: int64"
      ]
     },
     "execution_count": 5,
     "metadata": {},
     "output_type": "execute_result"
    }
   ],
   "source": [
    "# Check if there are null values\n",
    "df[quantatative_cols].isnull().sum().sort_values()"
   ]
  },
  {
   "cell_type": "markdown",
   "metadata": {},
   "source": [
    "- **Lot Frontage**:  Null value were replaced with the average lot frontage for the corresponding Lot Config.     "
   ]
  },
  {
   "cell_type": "code",
   "execution_count": 6,
   "metadata": {},
   "outputs": [],
   "source": [
    "# Make dictionary of 'Lot Config' items and their corresponding 'Lot Frontage' average\n",
    "\n",
    "Lot_Frontage_NA_fill = dict(zip(list(df.loc[:, ['Lot Frontage','Lot Config']].groupby('Lot Config')\\\n",
    "                                   .mean()['Lot Frontage'].keys()),\n",
    "     list(df.loc[:, ['Lot Frontage','Lot Config']].groupby('Lot Config').mean()['Lot Frontage'].values)))"
   ]
  },
  {
   "cell_type": "code",
   "execution_count": 7,
   "metadata": {},
   "outputs": [
    {
     "data": {
      "text/plain": [
       "{'Corner': 83.24555160142349,\n",
       " 'CulDSac': 55.22857142857143,\n",
       " 'FR2': 60.83673469387755,\n",
       " 'FR3': 87.0,\n",
       " 'Inside': 66.95277989337396}"
      ]
     },
     "execution_count": 7,
     "metadata": {},
     "output_type": "execute_result"
    }
   ],
   "source": [
    "Lot_Frontage_NA_fill"
   ]
  },
  {
   "cell_type": "code",
   "execution_count": 8,
   "metadata": {},
   "outputs": [],
   "source": [
    "def lf_filler(row):\n",
    "    \n",
    "    \"\"\"\n",
    "    Replace null value in 'Lot Frontage column\" with the average 'Lot Frontage' for the corresponding 'Lot Config'\n",
    "    \n",
    "    Parameter:\n",
    "        - row: series/ ex) 'dataframe.apply(lf_filler, axis = 1)'\n",
    "    \"\"\"\n",
    "    \n",
    "    if np.isnan(row['Lot Frontage']):\n",
    "        fill = Lot_Frontage_NA_fill[row['Lot Config']]\n",
    "        \n",
    "    else:\n",
    "        fill = row['Lot Frontage']\n",
    "    return fill"
   ]
  },
  {
   "cell_type": "code",
   "execution_count": 9,
   "metadata": {},
   "outputs": [],
   "source": [
    "df['Lot Frontage'] = df.apply(lf_filler, axis = 1)"
   ]
  },
  {
   "cell_type": "code",
   "execution_count": 10,
   "metadata": {},
   "outputs": [
    {
     "data": {
      "text/plain": [
       "Lot Frontage    0\n",
       "Lot Config      0\n",
       "dtype: int64"
      ]
     },
     "execution_count": 10,
     "metadata": {},
     "output_type": "execute_result"
    }
   ],
   "source": [
    "df.loc[:, ['Lot Frontage','Lot Config']].isnull().sum()"
   ]
  },
  {
   "cell_type": "markdown",
   "metadata": {},
   "source": [
    "- **Rest of the quantatative columns** were imputed with the column's mean."
   ]
  },
  {
   "cell_type": "code",
   "execution_count": 11,
   "metadata": {},
   "outputs": [],
   "source": [
    "def mean_filler(cols, inplace):\n",
    "    \"\"\"\n",
    "    Replace na values with its column's mean\n",
    "    \n",
    "    Paramters:\n",
    "        cols: list/ list of column names\n",
    "        inplace: boolean/ inplace = True or False\n",
    "    \"\"\"    \n",
    "    for col in cols:\n",
    "        df[col].fillna(df[col].mean(), inplace = inplace)"
   ]
  },
  {
   "cell_type": "code",
   "execution_count": 12,
   "metadata": {},
   "outputs": [],
   "source": [
    "# Replace the NA values from the rest of the quatatative columns with its mean \n",
    "\n",
    "mean_filler(quantatative_cols, True)"
   ]
  },
  {
   "cell_type": "code",
   "execution_count": 13,
   "metadata": {},
   "outputs": [
    {
     "data": {
      "text/plain": [
       "Lot Frontage       0\n",
       "Pool Area          0\n",
       "Screen Porch       0\n",
       "3Ssn Porch         0\n",
       "Enclosed Porch     0\n",
       "Open Porch SF      0\n",
       "Wood Deck SF       0\n",
       "Garage Area        0\n",
       "Garage Cars        0\n",
       "Fireplaces         0\n",
       "TotRms AbvGrd      0\n",
       "Kitchen AbvGr      0\n",
       "Bedroom AbvGr      0\n",
       "Misc Val           0\n",
       "Half Bath          0\n",
       "Bsmt Half Bath     0\n",
       "Bsmt Full Bath     0\n",
       "Gr Liv Area        0\n",
       "Low Qual Fin SF    0\n",
       "2nd Flr SF         0\n",
       "1st Flr SF         0\n",
       "Total Bsmt SF      0\n",
       "Bsmt Unf SF        0\n",
       "BsmtFin SF 2       0\n",
       "BsmtFin SF 1       0\n",
       "Mas Vnr Area       0\n",
       "Lot Area           0\n",
       "Full Bath          0\n",
       "SalePrice          0\n",
       "dtype: int64"
      ]
     },
     "execution_count": 13,
     "metadata": {},
     "output_type": "execute_result"
    }
   ],
   "source": [
    "# Check if there are null values\n",
    "df[quantatative_cols].isnull().sum().sort_values()"
   ]
  },
  {
   "cell_type": "markdown",
   "metadata": {},
   "source": [
    "<a id='quan'></a>\n",
    "### 2. Categorical Features"
   ]
  },
  {
   "cell_type": "code",
   "execution_count": 14,
   "metadata": {},
   "outputs": [
    {
     "data": {
      "text/plain": [
       "MS SubClass         0\n",
       "Overall Qual        0\n",
       "Overall Cond        0\n",
       "Year Built          0\n",
       "Year Remod/Add      0\n",
       "Garage Yr Blt     114\n",
       "Mo Sold             0\n",
       "Yr Sold             0\n",
       "dtype: int64"
      ]
     },
     "execution_count": 14,
     "metadata": {},
     "output_type": "execute_result"
    }
   ],
   "source": [
    "df[categorical_cols].isnull().sum()"
   ]
  },
  {
   "cell_type": "markdown",
   "metadata": {},
   "source": [
    "**Garage Yr Blt** is the only column that has a null value. If 'Garage Yr Blt' is NA, it is becuase there is no garage in the property.\n",
    "\n",
    "- Cleaning:\n",
    "    - NA values in 'Garage Yr Blt' will be 'no_garage'\n",
    "    - 'old garage' will be 'old_garage'\n",
    "    - 'new garage' will be 'new_garage'\n",
    "    - Dummy out the 'Garage Yr Blt'"
   ]
  },
  {
   "cell_type": "code",
   "execution_count": 15,
   "metadata": {},
   "outputs": [],
   "source": [
    "# 'Garage Yr Blt' column typo corrected (2207.0 -> 2007)\n",
    "# Assume 2207.0 is typo of 2007 because Year Remod/Add and Yr Sold are 2007 and 2207 is similiar to 2007.\n",
    "\n",
    "# Garage Yr Blt: 1895 ~ 2010\n",
    "\n",
    "df['Garage Yr Blt'].replace(2207.0, 2007, inplace = True)"
   ]
  },
  {
   "cell_type": "code",
   "execution_count": 16,
   "metadata": {},
   "outputs": [],
   "source": [
    "def Garage_Yr_Blt_filler(row):\n",
    "    \n",
    "    \"\"\"\n",
    "    Replace each row of 'Garage Yr Blt' column as following:\n",
    "        NA: 'no_garage'\n",
    "        >= 1975: 'new_garage'\n",
    "        < 1975: 'old_garage'\n",
    "    \n",
    "    Parameter:\n",
    "        - row: series/ ex) 'dataframe.apply(lf_filler, axis = 1)'\n",
    "    \"\"\"\n",
    "    \n",
    "    if np.isnan(row['Garage Yr Blt']):\n",
    "        fill = 'no_garage'\n",
    "        \n",
    "    elif row['Garage Yr Blt'] >= 1975:\n",
    "        fill = 'new_garage'\n",
    "        \n",
    "    else:\n",
    "        fill = 'old_garage'\n",
    "    return fill"
   ]
  },
  {
   "cell_type": "code",
   "execution_count": 17,
   "metadata": {},
   "outputs": [],
   "source": [
    "# NA values in 'Garage Yr Blt' will be 'no_garage'\n",
    "df['Garage Yr Blt'] = df.apply(Garage_Yr_Blt_filler, axis = 1)"
   ]
  },
  {
   "cell_type": "code",
   "execution_count": 18,
   "metadata": {},
   "outputs": [
    {
     "data": {
      "text/plain": [
       "new_garage    1143\n",
       "old_garage     794\n",
       "no_garage      114\n",
       "Name: Garage Yr Blt, dtype: int64"
      ]
     },
     "execution_count": 18,
     "metadata": {},
     "output_type": "execute_result"
    }
   ],
   "source": [
    "df['Garage Yr Blt'].value_counts()"
   ]
  },
  {
   "cell_type": "code",
   "execution_count": 19,
   "metadata": {},
   "outputs": [],
   "source": [
    "df = pd.get_dummies(df, columns= ['Garage Yr Blt'], drop_first=True)"
   ]
  },
  {
   "cell_type": "code",
   "execution_count": 20,
   "metadata": {
    "scrolled": true
   },
   "outputs": [
    {
     "data": {
      "text/html": [
       "<div>\n",
       "<style scoped>\n",
       "    .dataframe tbody tr th:only-of-type {\n",
       "        vertical-align: middle;\n",
       "    }\n",
       "\n",
       "    .dataframe tbody tr th {\n",
       "        vertical-align: top;\n",
       "    }\n",
       "\n",
       "    .dataframe thead th {\n",
       "        text-align: right;\n",
       "    }\n",
       "</style>\n",
       "<table border=\"1\" class=\"dataframe\">\n",
       "  <thead>\n",
       "    <tr style=\"text-align: right;\">\n",
       "      <th></th>\n",
       "      <th>Id</th>\n",
       "      <th>PID</th>\n",
       "      <th>MS SubClass</th>\n",
       "      <th>MS Zoning</th>\n",
       "      <th>Lot Frontage</th>\n",
       "      <th>Lot Area</th>\n",
       "      <th>Street</th>\n",
       "      <th>Alley</th>\n",
       "      <th>Lot Shape</th>\n",
       "      <th>Land Contour</th>\n",
       "      <th>...</th>\n",
       "      <th>Pool QC</th>\n",
       "      <th>Fence</th>\n",
       "      <th>Misc Feature</th>\n",
       "      <th>Misc Val</th>\n",
       "      <th>Mo Sold</th>\n",
       "      <th>Yr Sold</th>\n",
       "      <th>Sale Type</th>\n",
       "      <th>SalePrice</th>\n",
       "      <th>Garage Yr Blt_no_garage</th>\n",
       "      <th>Garage Yr Blt_old_garage</th>\n",
       "    </tr>\n",
       "  </thead>\n",
       "  <tbody>\n",
       "    <tr>\n",
       "      <th>0</th>\n",
       "      <td>109</td>\n",
       "      <td>533352170</td>\n",
       "      <td>60</td>\n",
       "      <td>RL</td>\n",
       "      <td>55.228571</td>\n",
       "      <td>13517</td>\n",
       "      <td>Pave</td>\n",
       "      <td>NaN</td>\n",
       "      <td>IR1</td>\n",
       "      <td>Lvl</td>\n",
       "      <td>...</td>\n",
       "      <td>NaN</td>\n",
       "      <td>NaN</td>\n",
       "      <td>NaN</td>\n",
       "      <td>0</td>\n",
       "      <td>3</td>\n",
       "      <td>2010</td>\n",
       "      <td>WD</td>\n",
       "      <td>130500</td>\n",
       "      <td>0</td>\n",
       "      <td>0</td>\n",
       "    </tr>\n",
       "    <tr>\n",
       "      <th>1</th>\n",
       "      <td>544</td>\n",
       "      <td>531379050</td>\n",
       "      <td>60</td>\n",
       "      <td>RL</td>\n",
       "      <td>43.000000</td>\n",
       "      <td>11492</td>\n",
       "      <td>Pave</td>\n",
       "      <td>NaN</td>\n",
       "      <td>IR1</td>\n",
       "      <td>Lvl</td>\n",
       "      <td>...</td>\n",
       "      <td>NaN</td>\n",
       "      <td>NaN</td>\n",
       "      <td>NaN</td>\n",
       "      <td>0</td>\n",
       "      <td>4</td>\n",
       "      <td>2009</td>\n",
       "      <td>WD</td>\n",
       "      <td>220000</td>\n",
       "      <td>0</td>\n",
       "      <td>0</td>\n",
       "    </tr>\n",
       "  </tbody>\n",
       "</table>\n",
       "<p>2 rows × 82 columns</p>\n",
       "</div>"
      ],
      "text/plain": [
       "    Id        PID  MS SubClass MS Zoning  Lot Frontage  Lot Area Street Alley  \\\n",
       "0  109  533352170           60        RL     55.228571     13517   Pave   NaN   \n",
       "1  544  531379050           60        RL     43.000000     11492   Pave   NaN   \n",
       "\n",
       "  Lot Shape Land Contour  ... Pool QC Fence Misc Feature Misc Val Mo Sold  \\\n",
       "0       IR1          Lvl  ...     NaN   NaN          NaN        0       3   \n",
       "1       IR1          Lvl  ...     NaN   NaN          NaN        0       4   \n",
       "\n",
       "  Yr Sold Sale Type SalePrice  Garage Yr Blt_no_garage  \\\n",
       "0    2010       WD     130500                        0   \n",
       "1    2009       WD     220000                        0   \n",
       "\n",
       "   Garage Yr Blt_old_garage  \n",
       "0                         0  \n",
       "1                         0  \n",
       "\n",
       "[2 rows x 82 columns]"
      ]
     },
     "execution_count": 20,
     "metadata": {},
     "output_type": "execute_result"
    }
   ],
   "source": [
    "df.head(2)"
   ]
  },
  {
   "cell_type": "markdown",
   "metadata": {},
   "source": [
    "'Garage Yr Blt_no_garage' and 'Garage Yr Blt_old_garage' columns were added"
   ]
  },
  {
   "cell_type": "markdown",
   "metadata": {},
   "source": [
    "### 3. Non-numeric Features\n",
    "- Part A. Turning non-numeric features into numeric features\n",
    "- Part B. Null value imputing"
   ]
  },
  {
   "cell_type": "markdown",
   "metadata": {},
   "source": [
    "#### Part A. Turning non-numeric features into numeric features"
   ]
  },
  {
   "cell_type": "code",
   "execution_count": 21,
   "metadata": {},
   "outputs": [
    {
     "data": {
      "text/plain": [
       "Pool QC           2042\n",
       "Misc Feature      1986\n",
       "Alley             1911\n",
       "Fence             1651\n",
       "Fireplace Qu      1000\n",
       "Garage Cond        114\n",
       "Garage Qual        114\n",
       "Garage Finish      114\n",
       "Garage Type        113\n",
       "Bsmt Exposure       58\n",
       "BsmtFin Type 2      56\n",
       "BsmtFin Type 1      55\n",
       "Bsmt Cond           55\n",
       "Bsmt Qual           55\n",
       "Mas Vnr Type        22\n",
       "Condition 1          0\n",
       "Neighborhood         0\n",
       "Condition 2          0\n",
       "Bldg Type            0\n",
       "Sale Type            0\n",
       "Lot Config           0\n",
       "Land Slope           0\n",
       "Roof Style           0\n",
       "Utilities            0\n",
       "Land Contour         0\n",
       "Lot Shape            0\n",
       "Street               0\n",
       "House Style          0\n",
       "Foundation           0\n",
       "Roof Matl            0\n",
       "Exterior 1st         0\n",
       "Exterior 2nd         0\n",
       "Exter Qual           0\n",
       "Exter Cond           0\n",
       "Heating              0\n",
       "Heating QC           0\n",
       "Central Air          0\n",
       "Electrical           0\n",
       "Kitchen Qual         0\n",
       "Functional           0\n",
       "Paved Drive          0\n",
       "MS Zoning            0\n",
       "dtype: int64"
      ]
     },
     "execution_count": 21,
     "metadata": {},
     "output_type": "execute_result"
    }
   ],
   "source": [
    "df[non_numeric_cols].isnull().sum().sort_values(ascending = False)"
   ]
  },
  {
   "cell_type": "markdown",
   "metadata": {},
   "source": [
    "#### `Neighborhood`\n",
    "The column was classified into two groups. One group with the average sale price is higher than overall average (`g_nbr`) and lower than overall average (`w_nbr`).\n",
    "\n",
    "- `g_nbr`:                        \n",
    "'Blmngtn', 'ClearCr', 'CollgCr', 'Crawfor', 'Gilbert', 'Greens','GrnHill', 'NWAmes', 'NoRidge', 'NridgHt', 'SawyerW', 'Somerst','StoneBr', 'Timber', 'Veenker'\n",
    "           \n",
    "- `w_nbr`:                           \n",
    "'Blueste', 'BrDale', 'BrkSide', 'Edwards', 'IDOTRR', 'Landmrk', 'MeadowV', 'Mitchel', 'NAmes', 'NPkVill', 'OldTown', 'SWISU', 'Sawyer' "
   ]
  },
  {
   "cell_type": "code",
   "execution_count": 22,
   "metadata": {},
   "outputs": [
    {
     "data": {
      "text/html": [
       "<div>\n",
       "<style scoped>\n",
       "    .dataframe tbody tr th:only-of-type {\n",
       "        vertical-align: middle;\n",
       "    }\n",
       "\n",
       "    .dataframe tbody tr th {\n",
       "        vertical-align: top;\n",
       "    }\n",
       "\n",
       "    .dataframe thead th {\n",
       "        text-align: right;\n",
       "    }\n",
       "</style>\n",
       "<table border=\"1\" class=\"dataframe\">\n",
       "  <thead>\n",
       "    <tr style=\"text-align: right;\">\n",
       "      <th></th>\n",
       "      <th>Neighborhood</th>\n",
       "      <th>SalePrice</th>\n",
       "    </tr>\n",
       "  </thead>\n",
       "  <tbody>\n",
       "    <tr>\n",
       "      <th>0</th>\n",
       "      <td>Blmngtn</td>\n",
       "      <td>200417.681818</td>\n",
       "    </tr>\n",
       "    <tr>\n",
       "      <th>1</th>\n",
       "      <td>Blueste</td>\n",
       "      <td>144566.666667</td>\n",
       "    </tr>\n",
       "    <tr>\n",
       "      <th>2</th>\n",
       "      <td>BrDale</td>\n",
       "      <td>103371.052632</td>\n",
       "    </tr>\n",
       "    <tr>\n",
       "      <th>3</th>\n",
       "      <td>BrkSide</td>\n",
       "      <td>127022.697368</td>\n",
       "    </tr>\n",
       "    <tr>\n",
       "      <th>4</th>\n",
       "      <td>ClearCr</td>\n",
       "      <td>217490.074074</td>\n",
       "    </tr>\n",
       "  </tbody>\n",
       "</table>\n",
       "</div>"
      ],
      "text/plain": [
       "  Neighborhood      SalePrice\n",
       "0      Blmngtn  200417.681818\n",
       "1      Blueste  144566.666667\n",
       "2       BrDale  103371.052632\n",
       "3      BrkSide  127022.697368\n",
       "4      ClearCr  217490.074074"
      ]
     },
     "execution_count": 22,
     "metadata": {},
     "output_type": "execute_result"
    }
   ],
   "source": [
    "nbr_group = df.loc[:, ['Neighborhood', 'SalePrice']].groupby('Neighborhood').mean()\n",
    "nbr_group = nbr_group.reset_index()\n",
    "nbr_group.head()"
   ]
  },
  {
   "cell_type": "code",
   "execution_count": 23,
   "metadata": {},
   "outputs": [
    {
     "data": {
      "text/plain": [
       "Text(0.5, 1.0, 'Average Sale Price by Neighborhood')"
      ]
     },
     "execution_count": 23,
     "metadata": {},
     "output_type": "execute_result"
    },
    {
     "data": {
      "image/png": "[encoded data removed]",
      "text/plain": [
       "<Figure size 1440x576 with 1 Axes>"
      ]
     },
     "metadata": {
      "needs_background": "light"
     },
     "output_type": "display_data"
    }
   ],
   "source": [
    "plt.figure(figsize = (20,8))\n",
    "plt.bar(nbr_group.index, nbr_group.iloc[:,1].values)\n",
    "plt.axhline(nbr_group.iloc[:,1].values.mean(), color='red', label = 'Average Sale Price')\n",
    "plt.xlabel('Neighborhood Index (Refer to the dataframe above)', fontsize = 20)\n",
    "plt.ylabel('Sale Price [$]', fontsize = 20)\n",
    "plt.xticks(ticks = np.arange(len(list(nbr_group.index))),\n",
    "           labels = list(nbr_group.index), \n",
    "           fontsize = 15)\n",
    "plt.yticks(fontsize = 15)\n",
    "plt.legend(fontsize = 17)\n",
    "plt.title('Average Sale Price by Neighborhood', fontsize = 28)"
   ]
  },
  {
   "cell_type": "markdown",
   "metadata": {},
   "source": [
    "Observation:\n",
    "- The column was classified into two groups. One group with the average sale price is higher than overall average (`g_nbr`) and lower than overall average (`w_nbr`). The columns that has its top above the red line is `g_nbr` and the rest are `w_nbr`"
   ]
  },
  {
   "cell_type": "code",
   "execution_count": 24,
   "metadata": {},
   "outputs": [],
   "source": [
    "# Dividing 'Neighborhood' into two categories\n",
    "\n",
    "g_nbr = nbr_group.loc[nbr_group['SalePrice'] > nbr_group.iloc[:,1].values.mean(), :]['Neighborhood'].values\n",
    "w_nbr = nbr_group.loc[nbr_group['SalePrice'] < nbr_group.iloc[:,1].values.mean(), :]['Neighborhood'].values"
   ]
  },
  {
   "cell_type": "code",
   "execution_count": 25,
   "metadata": {},
   "outputs": [],
   "source": [
    "\"\"\"\n",
    "Binarize 'Neighborhood' column as following:\n",
    "    - 1: Neighborhoods with the lower sale price average\n",
    "    - 0: Neighborhoods with the higher sale price average\n",
    "\"\"\"\n",
    "\n",
    "df['Neighborhood'] = df['Neighborhood'].apply(lambda x: 1 if x in g_nbr else 0)"
   ]
  },
  {
   "cell_type": "code",
   "execution_count": 26,
   "metadata": {},
   "outputs": [
    {
     "data": {
      "text/plain": [
       "<matplotlib.axes._subplots.AxesSubplot at 0x1a19387e48>"
      ]
     },
     "execution_count": 26,
     "metadata": {},
     "output_type": "execute_result"
    },
    {
     "data": {
      "image/png": "[encoded data removed]",
      "text/plain": [
       "<Figure size 432x288 with 1 Axes>"
      ]
     },
     "metadata": {
      "needs_background": "light"
     },
     "output_type": "display_data"
    }
   ],
   "source": [
    "sns.boxplot(x = 'Neighborhood', y = 'SalePrice' ,data = df)"
   ]
  },
  {
   "cell_type": "code",
   "execution_count": 27,
   "metadata": {},
   "outputs": [
    {
     "data": {
      "text/plain": [
       "0    1053\n",
       "1     998\n",
       "Name: Neighborhood, dtype: int64"
      ]
     },
     "execution_count": 27,
     "metadata": {},
     "output_type": "execute_result"
    }
   ],
   "source": [
    "df['Neighborhood'].value_counts()"
   ]
  },
  {
   "cell_type": "markdown",
   "metadata": {},
   "source": [
    "#### Central Air, Street\n",
    "    - These two features have two items each.\n",
    "    - Action: Binarize them into 0 and 1"
   ]
  },
  {
   "cell_type": "markdown",
   "metadata": {},
   "source": [
    "#### a. Central Air"
   ]
  },
  {
   "cell_type": "code",
   "execution_count": 28,
   "metadata": {},
   "outputs": [
    {
     "data": {
      "text/html": [
       "<div>\n",
       "<style scoped>\n",
       "    .dataframe tbody tr th:only-of-type {\n",
       "        vertical-align: middle;\n",
       "    }\n",
       "\n",
       "    .dataframe tbody tr th {\n",
       "        vertical-align: top;\n",
       "    }\n",
       "\n",
       "    .dataframe thead th {\n",
       "        text-align: right;\n",
       "    }\n",
       "</style>\n",
       "<table border=\"1\" class=\"dataframe\">\n",
       "  <thead>\n",
       "    <tr style=\"text-align: right;\">\n",
       "      <th></th>\n",
       "      <th>SalePrice</th>\n",
       "    </tr>\n",
       "    <tr>\n",
       "      <th>Central Air</th>\n",
       "      <th></th>\n",
       "    </tr>\n",
       "  </thead>\n",
       "  <tbody>\n",
       "    <tr>\n",
       "      <th>N</th>\n",
       "      <td>100575.078014</td>\n",
       "    </tr>\n",
       "    <tr>\n",
       "      <th>Y</th>\n",
       "      <td>187441.503665</td>\n",
       "    </tr>\n",
       "  </tbody>\n",
       "</table>\n",
       "</div>"
      ],
      "text/plain": [
       "                 SalePrice\n",
       "Central Air               \n",
       "N            100575.078014\n",
       "Y            187441.503665"
      ]
     },
     "execution_count": 28,
     "metadata": {},
     "output_type": "execute_result"
    }
   ],
   "source": [
    "df.loc[:, ['Central Air', 'SalePrice']].groupby('Central Air').mean()"
   ]
  },
  {
   "cell_type": "code",
   "execution_count": 29,
   "metadata": {},
   "outputs": [],
   "source": [
    "df['Central Air'] = df['Central Air'].apply(lambda x: 1 if x == 'Y' else 0)"
   ]
  },
  {
   "cell_type": "code",
   "execution_count": 30,
   "metadata": {},
   "outputs": [
    {
     "data": {
      "text/html": [
       "<div>\n",
       "<style scoped>\n",
       "    .dataframe tbody tr th:only-of-type {\n",
       "        vertical-align: middle;\n",
       "    }\n",
       "\n",
       "    .dataframe tbody tr th {\n",
       "        vertical-align: top;\n",
       "    }\n",
       "\n",
       "    .dataframe thead th {\n",
       "        text-align: right;\n",
       "    }\n",
       "</style>\n",
       "<table border=\"1\" class=\"dataframe\">\n",
       "  <thead>\n",
       "    <tr style=\"text-align: right;\">\n",
       "      <th></th>\n",
       "      <th>SalePrice</th>\n",
       "    </tr>\n",
       "    <tr>\n",
       "      <th>Central Air</th>\n",
       "      <th></th>\n",
       "    </tr>\n",
       "  </thead>\n",
       "  <tbody>\n",
       "    <tr>\n",
       "      <th>0</th>\n",
       "      <td>100575.078014</td>\n",
       "    </tr>\n",
       "    <tr>\n",
       "      <th>1</th>\n",
       "      <td>187441.503665</td>\n",
       "    </tr>\n",
       "  </tbody>\n",
       "</table>\n",
       "</div>"
      ],
      "text/plain": [
       "                 SalePrice\n",
       "Central Air               \n",
       "0            100575.078014\n",
       "1            187441.503665"
      ]
     },
     "execution_count": 30,
     "metadata": {},
     "output_type": "execute_result"
    }
   ],
   "source": [
    "df.loc[:, ['Central Air', 'SalePrice']].groupby('Central Air').mean()"
   ]
  },
  {
   "cell_type": "markdown",
   "metadata": {},
   "source": [
    "#### b. Street"
   ]
  },
  {
   "cell_type": "code",
   "execution_count": 31,
   "metadata": {},
   "outputs": [
    {
     "data": {
      "text/html": [
       "<div>\n",
       "<style scoped>\n",
       "    .dataframe tbody tr th:only-of-type {\n",
       "        vertical-align: middle;\n",
       "    }\n",
       "\n",
       "    .dataframe tbody tr th {\n",
       "        vertical-align: top;\n",
       "    }\n",
       "\n",
       "    .dataframe thead th {\n",
       "        text-align: right;\n",
       "    }\n",
       "</style>\n",
       "<table border=\"1\" class=\"dataframe\">\n",
       "  <thead>\n",
       "    <tr style=\"text-align: right;\">\n",
       "      <th></th>\n",
       "      <th>SalePrice</th>\n",
       "    </tr>\n",
       "    <tr>\n",
       "      <th>Street</th>\n",
       "      <th></th>\n",
       "    </tr>\n",
       "  </thead>\n",
       "  <tbody>\n",
       "    <tr>\n",
       "      <th>Grvl</th>\n",
       "      <td>86901.428571</td>\n",
       "    </tr>\n",
       "    <tr>\n",
       "      <th>Pave</th>\n",
       "      <td>181793.565558</td>\n",
       "    </tr>\n",
       "  </tbody>\n",
       "</table>\n",
       "</div>"
      ],
      "text/plain": [
       "            SalePrice\n",
       "Street               \n",
       "Grvl     86901.428571\n",
       "Pave    181793.565558"
      ]
     },
     "execution_count": 31,
     "metadata": {},
     "output_type": "execute_result"
    }
   ],
   "source": [
    "df.loc[:, ['Street', 'SalePrice']].groupby('Street').mean()"
   ]
  },
  {
   "cell_type": "code",
   "execution_count": 32,
   "metadata": {},
   "outputs": [],
   "source": [
    "df['Street'] = df['Street'].apply(lambda x: 1 if x == 'Pave' else 0)"
   ]
  },
  {
   "cell_type": "code",
   "execution_count": 33,
   "metadata": {},
   "outputs": [
    {
     "data": {
      "text/html": [
       "<div>\n",
       "<style scoped>\n",
       "    .dataframe tbody tr th:only-of-type {\n",
       "        vertical-align: middle;\n",
       "    }\n",
       "\n",
       "    .dataframe tbody tr th {\n",
       "        vertical-align: top;\n",
       "    }\n",
       "\n",
       "    .dataframe thead th {\n",
       "        text-align: right;\n",
       "    }\n",
       "</style>\n",
       "<table border=\"1\" class=\"dataframe\">\n",
       "  <thead>\n",
       "    <tr style=\"text-align: right;\">\n",
       "      <th></th>\n",
       "      <th>SalePrice</th>\n",
       "    </tr>\n",
       "    <tr>\n",
       "      <th>Street</th>\n",
       "      <th></th>\n",
       "    </tr>\n",
       "  </thead>\n",
       "  <tbody>\n",
       "    <tr>\n",
       "      <th>0</th>\n",
       "      <td>86901.428571</td>\n",
       "    </tr>\n",
       "    <tr>\n",
       "      <th>1</th>\n",
       "      <td>181793.565558</td>\n",
       "    </tr>\n",
       "  </tbody>\n",
       "</table>\n",
       "</div>"
      ],
      "text/plain": [
       "            SalePrice\n",
       "Street               \n",
       "0        86901.428571\n",
       "1       181793.565558"
      ]
     },
     "execution_count": 33,
     "metadata": {},
     "output_type": "execute_result"
    }
   ],
   "source": [
    "df.loc[:, ['Street', 'SalePrice']].groupby('Street').mean()"
   ]
  },
  {
   "cell_type": "markdown",
   "metadata": {},
   "source": [
    "#### Columns with ranked items (ex. good, average, bad)\n",
    "    - Columns: 'Heating QC', 'Kitchen Qual', 'Exter Qual', 'Exter Cond'\n",
    "    - Action: Assign numerical score"
   ]
  },
  {
   "cell_type": "code",
   "execution_count": 34,
   "metadata": {},
   "outputs": [],
   "source": [
    "def unique_vals(df):\n",
    "    \"\"\"\n",
    "    Return dictionary that has\n",
    "         key == column names\n",
    "         value == the column's unique values\n",
    "    \"\"\"\n",
    "    \n",
    "    val_dic = {}\n",
    "    for col in df.columns:\n",
    "        val_dic.update({col: df[col].unique()})\n",
    "    return val_dic"
   ]
  },
  {
   "cell_type": "code",
   "execution_count": 35,
   "metadata": {},
   "outputs": [],
   "source": [
    "# Make dictionary to turn string score to numerical score\n",
    "\n",
    "str_score_5 = ['Ex','Gd','TA','Fa', 'Po']\n",
    "num_score_5 = np.arange(5,-1,-1)\n",
    "score_5_dict = dict(zip(str_score_5, num_score_5))\n",
    "\n",
    "str_score_4 = ['Ex','Gd','TA','Fa']\n",
    "num_score_4 = np.arange(4,-1,-1)\n",
    "score_4_dict = dict(zip(str_score_4, num_score_4))"
   ]
  },
  {
   "cell_type": "code",
   "execution_count": 36,
   "metadata": {},
   "outputs": [
    {
     "data": {
      "text/plain": [
       "{'Ex': 4, 'Gd': 3, 'TA': 2, 'Fa': 1}"
      ]
     },
     "execution_count": 36,
     "metadata": {},
     "output_type": "execute_result"
    }
   ],
   "source": [
    "score_4_dict"
   ]
  },
  {
   "cell_type": "code",
   "execution_count": 37,
   "metadata": {},
   "outputs": [
    {
     "data": {
      "text/plain": [
       "{'Heating QC': array(['Ex', 'TA', 'Gd', 'Fa', 'Po'], dtype=object),\n",
       " 'Kitchen Qual': array(['Gd', 'TA', 'Fa', 'Ex'], dtype=object),\n",
       " 'Exter Qual': array(['Gd', 'TA', 'Ex', 'Fa'], dtype=object),\n",
       " 'Exter Cond': array(['TA', 'Gd', 'Fa', 'Ex', 'Po'], dtype=object)}"
      ]
     },
     "execution_count": 37,
     "metadata": {},
     "output_type": "execute_result"
    }
   ],
   "source": [
    "# View unique values\n",
    "ranking_cols =['Heating QC', 'Kitchen Qual',\n",
    "                      'Exter Qual', 'Exter Cond']\n",
    "\n",
    "score_df = df.loc[:, ranking_cols]\n",
    "unique_vals(score_df)"
   ]
  },
  {
   "cell_type": "code",
   "execution_count": 38,
   "metadata": {},
   "outputs": [],
   "source": [
    "# Turn string score to numerical score\n",
    "\n",
    "df['Exter Cond'] = df['Exter Cond'].map(score_5_dict)\n",
    "df['Heating QC'] = df['Heating QC'].map(score_5_dict)\n",
    "df['Kitchen Qual'] = df['Kitchen Qual'].map(score_4_dict)\n",
    "df['Exter Qual'] = df['Exter Qual'].map(score_4_dict)"
   ]
  },
  {
   "cell_type": "markdown",
   "metadata": {},
   "source": [
    "#### Part B. Null value imputing"
   ]
  },
  {
   "cell_type": "markdown",
   "metadata": {},
   "source": [
    "According to the [data dictionary](http://jse.amstat.org/v19n3/decock/DataDocumentation.txt), many features use null value to describe when a house part is not on the premises. In other words, the null values are not really missing. Instead, they convey information.\n",
    "\n",
    "- Actions\n",
    "    - NA values in `Misc Feature` means no miscellaneous feature on the premises not covered in other columns. This does not seem significant. Therefore, drop this column.\n",
    "    - Non numerical features were filled in with a string value, 'no'\n",
    "    - All non-numeric columns were dummied out"
   ]
  },
  {
   "cell_type": "code",
   "execution_count": 39,
   "metadata": {},
   "outputs": [],
   "source": [
    "# Drop `Misc Feature` column\n",
    "df = df.drop('Misc Feature', axis = 1)"
   ]
  },
  {
   "cell_type": "code",
   "execution_count": 40,
   "metadata": {},
   "outputs": [],
   "source": [
    "null_cols = ['Pool QC', 'Alley', 'Fence',\n",
    "             'Fireplace Qu', 'Garage Finish',\n",
    "             'Garage Qual', 'Garage Cond', 'Garage Type',\n",
    "             'Bsmt Exposure', 'BsmtFin Type 2', 'Bsmt Qual',\n",
    "             'Bsmt Cond', 'BsmtFin Type 1', 'Mas Vnr Type']"
   ]
  },
  {
   "cell_type": "code",
   "execution_count": 41,
   "metadata": {},
   "outputs": [],
   "source": [
    "# Replace null values from `null_cols` with string 'no'\n",
    "for null_col in null_cols:\n",
    "    df.loc[:, null_col].fillna('no', inplace = True)"
   ]
  },
  {
   "cell_type": "code",
   "execution_count": 42,
   "metadata": {},
   "outputs": [],
   "source": [
    "# Dummy out all numeric columns\n",
    "to_be_dummy_cols = df.loc[:, df.dtypes == object].columns\n",
    "df = pd.get_dummies(df, columns= to_be_dummy_cols, drop_first=True)"
   ]
  },
  {
   "cell_type": "code",
   "execution_count": 43,
   "metadata": {
    "scrolled": false
   },
   "outputs": [
    {
     "data": {
      "text/plain": [
       "0"
      ]
     },
     "execution_count": 43,
     "metadata": {},
     "output_type": "execute_result"
    }
   ],
   "source": [
    "df.isnull().sum().sum()"
   ]
  },
  {
   "cell_type": "code",
   "execution_count": 44,
   "metadata": {},
   "outputs": [
    {
     "data": {
      "text/plain": [
       "(2051, 225)"
      ]
     },
     "execution_count": 44,
     "metadata": {},
     "output_type": "execute_result"
    }
   ],
   "source": [
    "df.shape"
   ]
  },
  {
   "cell_type": "markdown",
   "metadata": {},
   "source": [
    "Save the cleaned dataset as \"clean_train.csv\""
   ]
  },
  {
   "cell_type": "code",
   "execution_count": 45,
   "metadata": {},
   "outputs": [],
   "source": [
    "df.to_csv(\"./datasets/clean_train.csv\", index = False)"
   ]
  },
  {
   "cell_type": "markdown",
   "metadata": {},
   "source": [
    "Check if \"clean_train.csv\" was saved appropriately"
   ]
  },
  {
   "cell_type": "code",
   "execution_count": 46,
   "metadata": {},
   "outputs": [
    {
     "data": {
      "text/plain": [
       "0"
      ]
     },
     "execution_count": 46,
     "metadata": {},
     "output_type": "execute_result"
    }
   ],
   "source": [
    "pd.read_csv(\"./datasets/clean_train.csv\").isnull().sum().sum()"
   ]
  },
  {
   "cell_type": "code",
   "execution_count": 47,
   "metadata": {
    "scrolled": true
   },
   "outputs": [
    {
     "data": {
      "text/plain": [
       "(2051, 225)"
      ]
     },
     "execution_count": 47,
     "metadata": {},
     "output_type": "execute_result"
    }
   ],
   "source": [
    "pd.read_csv(\"./datasets/clean_train.csv\").shape"
   ]
  }
 ],
 "metadata": {
  "kernelspec": {
   "display_name": "Python 3",
   "language": "python",
   "name": "python3"
  },
  "language_info": {
   "codemirror_mode": {
    "name": "ipython",
    "version": 3
   },
   "file_extension": ".py",
   "mimetype": "text/x-python",
   "name": "python",
   "nbconvert_exporter": "python",
   "pygments_lexer": "ipython3",
   "version": "3.6.9"
  }
 },
 "nbformat": 4,
 "nbformat_minor": 2
}
