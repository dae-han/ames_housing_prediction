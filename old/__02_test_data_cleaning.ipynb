{
 "cells": [
  {
   "cell_type": "code",
   "execution_count": 1,
   "metadata": {
    "collapsed": true
   },
   "outputs": [],
   "source": [
    "# Import libraries\n",
    "\n",
    "import pandas as pd\n",
    "import numpy as np\n",
    "import matplotlib.pyplot as plt\n",
    "import seaborn as sns\n",
    "import math\n",
    "\n",
    "from sklearn.model_selection import train_test_split, cross_val_score\n",
    "from sklearn.preprocessing import StandardScaler, PolynomialFeatures\n",
    "from sklearn.linear_model import LinearRegression, Ridge, Lasso, RidgeCV, LassoCV\n",
    "from sklearn import metrics\n",
    "\n",
    "%matplotlib inline"
   ]
  },
  {
   "cell_type": "code",
   "execution_count": 2,
   "metadata": {},
   "outputs": [
    {
     "data": {
      "text/html": [
       "<div>\n",
       "<style scoped>\n",
       "    .dataframe tbody tr th:only-of-type {\n",
       "        vertical-align: middle;\n",
       "    }\n",
       "\n",
       "    .dataframe tbody tr th {\n",
       "        vertical-align: top;\n",
       "    }\n",
       "\n",
       "    .dataframe thead th {\n",
       "        text-align: right;\n",
       "    }\n",
       "</style>\n",
       "<table border=\"1\" class=\"dataframe\">\n",
       "  <thead>\n",
       "    <tr style=\"text-align: right;\">\n",
       "      <th></th>\n",
       "      <th>Id</th>\n",
       "      <th>PID</th>\n",
       "      <th>MS SubClass</th>\n",
       "      <th>MS Zoning</th>\n",
       "      <th>Lot Frontage</th>\n",
       "      <th>Lot Area</th>\n",
       "      <th>Street</th>\n",
       "      <th>Alley</th>\n",
       "      <th>Lot Shape</th>\n",
       "      <th>Land Contour</th>\n",
       "      <th>...</th>\n",
       "      <th>3Ssn Porch</th>\n",
       "      <th>Screen Porch</th>\n",
       "      <th>Pool Area</th>\n",
       "      <th>Pool QC</th>\n",
       "      <th>Fence</th>\n",
       "      <th>Misc Feature</th>\n",
       "      <th>Misc Val</th>\n",
       "      <th>Mo Sold</th>\n",
       "      <th>Yr Sold</th>\n",
       "      <th>Sale Type</th>\n",
       "    </tr>\n",
       "  </thead>\n",
       "  <tbody>\n",
       "    <tr>\n",
       "      <td>0</td>\n",
       "      <td>2658</td>\n",
       "      <td>902301120</td>\n",
       "      <td>190</td>\n",
       "      <td>RM</td>\n",
       "      <td>69.0</td>\n",
       "      <td>9142</td>\n",
       "      <td>Pave</td>\n",
       "      <td>Grvl</td>\n",
       "      <td>Reg</td>\n",
       "      <td>Lvl</td>\n",
       "      <td>...</td>\n",
       "      <td>0</td>\n",
       "      <td>0</td>\n",
       "      <td>0</td>\n",
       "      <td>NaN</td>\n",
       "      <td>NaN</td>\n",
       "      <td>NaN</td>\n",
       "      <td>0</td>\n",
       "      <td>4</td>\n",
       "      <td>2006</td>\n",
       "      <td>WD</td>\n",
       "    </tr>\n",
       "    <tr>\n",
       "      <td>1</td>\n",
       "      <td>2718</td>\n",
       "      <td>905108090</td>\n",
       "      <td>90</td>\n",
       "      <td>RL</td>\n",
       "      <td>NaN</td>\n",
       "      <td>9662</td>\n",
       "      <td>Pave</td>\n",
       "      <td>NaN</td>\n",
       "      <td>IR1</td>\n",
       "      <td>Lvl</td>\n",
       "      <td>...</td>\n",
       "      <td>0</td>\n",
       "      <td>0</td>\n",
       "      <td>0</td>\n",
       "      <td>NaN</td>\n",
       "      <td>NaN</td>\n",
       "      <td>NaN</td>\n",
       "      <td>0</td>\n",
       "      <td>8</td>\n",
       "      <td>2006</td>\n",
       "      <td>WD</td>\n",
       "    </tr>\n",
       "    <tr>\n",
       "      <td>2</td>\n",
       "      <td>2414</td>\n",
       "      <td>528218130</td>\n",
       "      <td>60</td>\n",
       "      <td>RL</td>\n",
       "      <td>58.0</td>\n",
       "      <td>17104</td>\n",
       "      <td>Pave</td>\n",
       "      <td>NaN</td>\n",
       "      <td>IR1</td>\n",
       "      <td>Lvl</td>\n",
       "      <td>...</td>\n",
       "      <td>0</td>\n",
       "      <td>0</td>\n",
       "      <td>0</td>\n",
       "      <td>NaN</td>\n",
       "      <td>NaN</td>\n",
       "      <td>NaN</td>\n",
       "      <td>0</td>\n",
       "      <td>9</td>\n",
       "      <td>2006</td>\n",
       "      <td>New</td>\n",
       "    </tr>\n",
       "    <tr>\n",
       "      <td>3</td>\n",
       "      <td>1989</td>\n",
       "      <td>902207150</td>\n",
       "      <td>30</td>\n",
       "      <td>RM</td>\n",
       "      <td>60.0</td>\n",
       "      <td>8520</td>\n",
       "      <td>Pave</td>\n",
       "      <td>NaN</td>\n",
       "      <td>Reg</td>\n",
       "      <td>Lvl</td>\n",
       "      <td>...</td>\n",
       "      <td>0</td>\n",
       "      <td>0</td>\n",
       "      <td>0</td>\n",
       "      <td>NaN</td>\n",
       "      <td>NaN</td>\n",
       "      <td>NaN</td>\n",
       "      <td>0</td>\n",
       "      <td>7</td>\n",
       "      <td>2007</td>\n",
       "      <td>WD</td>\n",
       "    </tr>\n",
       "    <tr>\n",
       "      <td>4</td>\n",
       "      <td>625</td>\n",
       "      <td>535105100</td>\n",
       "      <td>20</td>\n",
       "      <td>RL</td>\n",
       "      <td>NaN</td>\n",
       "      <td>9500</td>\n",
       "      <td>Pave</td>\n",
       "      <td>NaN</td>\n",
       "      <td>IR1</td>\n",
       "      <td>Lvl</td>\n",
       "      <td>...</td>\n",
       "      <td>0</td>\n",
       "      <td>185</td>\n",
       "      <td>0</td>\n",
       "      <td>NaN</td>\n",
       "      <td>NaN</td>\n",
       "      <td>NaN</td>\n",
       "      <td>0</td>\n",
       "      <td>7</td>\n",
       "      <td>2009</td>\n",
       "      <td>WD</td>\n",
       "    </tr>\n",
       "  </tbody>\n",
       "</table>\n",
       "<p>5 rows × 80 columns</p>\n",
       "</div>"
      ],
      "text/plain": [
       "     Id        PID  MS SubClass MS Zoning  Lot Frontage  Lot Area Street  \\\n",
       "0  2658  902301120          190        RM          69.0      9142   Pave   \n",
       "1  2718  905108090           90        RL           NaN      9662   Pave   \n",
       "2  2414  528218130           60        RL          58.0     17104   Pave   \n",
       "3  1989  902207150           30        RM          60.0      8520   Pave   \n",
       "4   625  535105100           20        RL           NaN      9500   Pave   \n",
       "\n",
       "  Alley Lot Shape Land Contour  ... 3Ssn Porch Screen Porch Pool Area Pool QC  \\\n",
       "0  Grvl       Reg          Lvl  ...          0            0         0     NaN   \n",
       "1   NaN       IR1          Lvl  ...          0            0         0     NaN   \n",
       "2   NaN       IR1          Lvl  ...          0            0         0     NaN   \n",
       "3   NaN       Reg          Lvl  ...          0            0         0     NaN   \n",
       "4   NaN       IR1          Lvl  ...          0          185         0     NaN   \n",
       "\n",
       "  Fence Misc Feature Misc Val Mo Sold  Yr Sold  Sale Type  \n",
       "0   NaN          NaN        0       4     2006        WD   \n",
       "1   NaN          NaN        0       8     2006        WD   \n",
       "2   NaN          NaN        0       9     2006        New  \n",
       "3   NaN          NaN        0       7     2007        WD   \n",
       "4   NaN          NaN        0       7     2009        WD   \n",
       "\n",
       "[5 rows x 80 columns]"
      ]
     },
     "execution_count": 2,
     "metadata": {},
     "output_type": "execute_result"
    }
   ],
   "source": [
    "# Read in test data\n",
    "df = pd.read_csv('./datasets/test.csv')\n",
    "df.head()"
   ]
  },
  {
   "cell_type": "code",
   "execution_count": 3,
   "metadata": {},
   "outputs": [
    {
     "data": {
      "text/plain": [
       "Pool QC         875\n",
       "Misc Feature    838\n",
       "Alley           821\n",
       "Fence           707\n",
       "Fireplace Qu    422\n",
       "               ... \n",
       "Heating QC        0\n",
       "Heating           0\n",
       "Yr Sold           0\n",
       "Bsmt Unf SF       0\n",
       "Id                0\n",
       "Length: 80, dtype: int64"
      ]
     },
     "execution_count": 3,
     "metadata": {},
     "output_type": "execute_result"
    }
   ],
   "source": [
    "df.isnull().sum().sort_values(ascending=False)"
   ]
  },
  {
   "cell_type": "markdown",
   "metadata": {},
   "source": [
    "<a id='feat'></a>\n",
    "## Features Classification"
   ]
  },
  {
   "cell_type": "code",
   "execution_count": 4,
   "metadata": {
    "collapsed": true
   },
   "outputs": [],
   "source": [
    "# type_df: dictionary of column's types\n",
    "type_df = pd.DataFrame(df.dtypes, columns= {'type':0})\n",
    "\n",
    "# numeric_cols: list of column names with numeric type (int, float)\n",
    "numeric_cols = list(type_df.loc[(type_df['type']== type(1))|(type_df['type']== type(1.1)), :].index)\n",
    "\n",
    "# quantatative_cols: list of column names with quantatative data type\n",
    "quantatative_cols = numeric_cols[3:5]+numeric_cols[9:26]+numeric_cols[27:36]+numeric_cols[38:]\n",
    "\n",
    "# categorical_cols: list of numerical columns that are categorical\n",
    "categorical_cols = [numeric_cols[2]] + numeric_cols[5:9] + [numeric_cols[26]] + numeric_cols[36:38]\n",
    "\n",
    "# non-numeric cols:\n",
    "non_numeric_cols = list(type_df.loc[(type_df['type']== type_df.loc[ 'MS Zoning' , :][0] ), :].index)"
   ]
  },
  {
   "cell_type": "markdown",
   "metadata": {},
   "source": [
    "<a id='quan'></a>\n",
    "## Quantatative Features"
   ]
  },
  {
   "cell_type": "code",
   "execution_count": 5,
   "metadata": {},
   "outputs": [
    {
     "data": {
      "text/plain": [
       "Full Bath            0\n",
       "Screen Porch         0\n",
       "3Ssn Porch           0\n",
       "Enclosed Porch       0\n",
       "Open Porch SF        0\n",
       "Wood Deck SF         0\n",
       "Garage Area          0\n",
       "Garage Cars          0\n",
       "Fireplaces           0\n",
       "TotRms AbvGrd        0\n",
       "Kitchen AbvGr        0\n",
       "Bedroom AbvGr        0\n",
       "Half Bath            0\n",
       "Misc Val             0\n",
       "Bsmt Half Bath       0\n",
       "Bsmt Full Bath       0\n",
       "Gr Liv Area          0\n",
       "Low Qual Fin SF      0\n",
       "2nd Flr SF           0\n",
       "1st Flr SF           0\n",
       "Total Bsmt SF        0\n",
       "Bsmt Unf SF          0\n",
       "BsmtFin SF 2         0\n",
       "BsmtFin SF 1         0\n",
       "Lot Area             0\n",
       "Pool Area            0\n",
       "Mas Vnr Area         1\n",
       "Lot Frontage       160\n",
       "dtype: int64"
      ]
     },
     "execution_count": 5,
     "metadata": {},
     "output_type": "execute_result"
    }
   ],
   "source": [
    "# Check if there are null values\n",
    "df[quantatative_cols].isnull().sum().sort_values()"
   ]
  },
  {
   "cell_type": "code",
   "execution_count": 6,
   "metadata": {},
   "outputs": [
    {
     "data": {
      "text/html": [
       "<div>\n",
       "<style scoped>\n",
       "    .dataframe tbody tr th:only-of-type {\n",
       "        vertical-align: middle;\n",
       "    }\n",
       "\n",
       "    .dataframe tbody tr th {\n",
       "        vertical-align: top;\n",
       "    }\n",
       "\n",
       "    .dataframe thead th {\n",
       "        text-align: right;\n",
       "    }\n",
       "</style>\n",
       "<table border=\"1\" class=\"dataframe\">\n",
       "  <thead>\n",
       "    <tr style=\"text-align: right;\">\n",
       "      <th></th>\n",
       "      <th>Lot Frontage</th>\n",
       "      <th>Lot Area</th>\n",
       "      <th>Street</th>\n",
       "      <th>Alley</th>\n",
       "      <th>Lot Shape</th>\n",
       "      <th>Lot Config</th>\n",
       "    </tr>\n",
       "  </thead>\n",
       "  <tbody>\n",
       "    <tr>\n",
       "      <td>1</td>\n",
       "      <td>NaN</td>\n",
       "      <td>9662</td>\n",
       "      <td>Pave</td>\n",
       "      <td>NaN</td>\n",
       "      <td>IR1</td>\n",
       "      <td>Inside</td>\n",
       "    </tr>\n",
       "    <tr>\n",
       "      <td>4</td>\n",
       "      <td>NaN</td>\n",
       "      <td>9500</td>\n",
       "      <td>Pave</td>\n",
       "      <td>NaN</td>\n",
       "      <td>IR1</td>\n",
       "      <td>Inside</td>\n",
       "    </tr>\n",
       "    <tr>\n",
       "      <td>7</td>\n",
       "      <td>NaN</td>\n",
       "      <td>9286</td>\n",
       "      <td>Pave</td>\n",
       "      <td>NaN</td>\n",
       "      <td>IR1</td>\n",
       "      <td>CulDSac</td>\n",
       "    </tr>\n",
       "    <tr>\n",
       "      <td>13</td>\n",
       "      <td>NaN</td>\n",
       "      <td>7976</td>\n",
       "      <td>Pave</td>\n",
       "      <td>NaN</td>\n",
       "      <td>Reg</td>\n",
       "      <td>Inside</td>\n",
       "    </tr>\n",
       "    <tr>\n",
       "      <td>20</td>\n",
       "      <td>NaN</td>\n",
       "      <td>8246</td>\n",
       "      <td>Pave</td>\n",
       "      <td>NaN</td>\n",
       "      <td>IR1</td>\n",
       "      <td>Inside</td>\n",
       "    </tr>\n",
       "  </tbody>\n",
       "</table>\n",
       "</div>"
      ],
      "text/plain": [
       "    Lot Frontage  Lot Area Street Alley Lot Shape Lot Config\n",
       "1            NaN      9662   Pave   NaN       IR1     Inside\n",
       "4            NaN      9500   Pave   NaN       IR1     Inside\n",
       "7            NaN      9286   Pave   NaN       IR1    CulDSac\n",
       "13           NaN      7976   Pave   NaN       Reg     Inside\n",
       "20           NaN      8246   Pave   NaN       IR1     Inside"
      ]
     },
     "execution_count": 6,
     "metadata": {},
     "output_type": "execute_result"
    }
   ],
   "source": [
    "# Examine lot related features and 'Lot Frontage' == null\n",
    "\n",
    "df.loc[df['Lot Frontage'].isnull(),\n",
    "       ['Lot Frontage','Lot Area','Street', 'Alley' ,'Lot Shape' ,'Lot Config']].head()"
   ]
  },
  {
   "cell_type": "code",
   "execution_count": 7,
   "metadata": {
    "collapsed": true
   },
   "outputs": [],
   "source": [
    "# Make dictionary of 'Lot Config' items and their corresponding 'Lot Frontage' average\n",
    "\n",
    "Lot_Frontage_NA_fill=dict(zip(list(df.loc[:, ['Lot Frontage','Lot Config']].groupby('Lot Config')\\\n",
    "                                   .mean()['Lot Frontage'].keys()),\n",
    "     list(df.loc[:, ['Lot Frontage','Lot Config']].groupby('Lot Config').mean()['Lot Frontage'].values)))"
   ]
  },
  {
   "cell_type": "code",
   "execution_count": 8,
   "metadata": {
    "collapsed": true
   },
   "outputs": [],
   "source": [
    "def lf_filler(row):\n",
    "    \n",
    "    \"\"\"\n",
    "    Replace null value in 'Lot Frontage column\" with the average 'Lot Frontage' for the corresponding 'Lot Config'\n",
    "    \n",
    "    Parameter:\n",
    "        - row: series/ ex) 'dataframe.apply(lf_filler, axis = 1)'\n",
    "    \"\"\"\n",
    "    \n",
    "    if np.isnan(row['Lot Frontage']):\n",
    "        fill = Lot_Frontage_NA_fill[row['Lot Config']]\n",
    "        \n",
    "    else:\n",
    "        fill = row['Lot Frontage']\n",
    "    return fill"
   ]
  },
  {
   "cell_type": "code",
   "execution_count": 9,
   "metadata": {
    "collapsed": true
   },
   "outputs": [],
   "source": [
    "df['Lot Frontage'] = df.apply(lf_filler, axis = 1)"
   ]
  },
  {
   "cell_type": "code",
   "execution_count": 10,
   "metadata": {},
   "outputs": [
    {
     "data": {
      "text/plain": [
       "Lot Frontage    0\n",
       "Lot Config      0\n",
       "dtype: int64"
      ]
     },
     "execution_count": 10,
     "metadata": {},
     "output_type": "execute_result"
    }
   ],
   "source": [
    "df.loc[:, ['Lot Frontage','Lot Config']].isnull().sum()"
   ]
  },
  {
   "cell_type": "code",
   "execution_count": 11,
   "metadata": {
    "collapsed": true
   },
   "outputs": [],
   "source": [
    "def mean_filler(cols, inplace):\n",
    "    \"\"\"\n",
    "    Replace na values with its column's mean\n",
    "    \n",
    "    Paramters:\n",
    "        cols: list/ list of column names\n",
    "        inplace: boolean/ inplace = True or False\n",
    "    \"\"\"    \n",
    "    for col in cols:\n",
    "        df[col].fillna(df[col].mean(), inplace = inplace)"
   ]
  },
  {
   "cell_type": "code",
   "execution_count": 12,
   "metadata": {
    "collapsed": true
   },
   "outputs": [],
   "source": [
    "# Replace the NA values from the rest of the quatatative columns with its mean \n",
    "\n",
    "mean_filler(quantatative_cols, True)"
   ]
  },
  {
   "cell_type": "code",
   "execution_count": 13,
   "metadata": {},
   "outputs": [
    {
     "data": {
      "text/plain": [
       "Misc Val           0\n",
       "Pool Area          0\n",
       "Lot Area           0\n",
       "Mas Vnr Area       0\n",
       "BsmtFin SF 1       0\n",
       "BsmtFin SF 2       0\n",
       "Bsmt Unf SF        0\n",
       "Total Bsmt SF      0\n",
       "1st Flr SF         0\n",
       "2nd Flr SF         0\n",
       "Low Qual Fin SF    0\n",
       "Gr Liv Area        0\n",
       "Bsmt Full Bath     0\n",
       "Bsmt Half Bath     0\n",
       "Full Bath          0\n",
       "Half Bath          0\n",
       "Bedroom AbvGr      0\n",
       "Kitchen AbvGr      0\n",
       "TotRms AbvGrd      0\n",
       "Fireplaces         0\n",
       "Garage Cars        0\n",
       "Garage Area        0\n",
       "Wood Deck SF       0\n",
       "Open Porch SF      0\n",
       "Enclosed Porch     0\n",
       "3Ssn Porch         0\n",
       "Screen Porch       0\n",
       "Lot Frontage       0\n",
       "dtype: int64"
      ]
     },
     "execution_count": 13,
     "metadata": {},
     "output_type": "execute_result"
    }
   ],
   "source": [
    "# Check if there is any NA values\n",
    "df.loc[:,quantatative_cols].isnull().sum().sort_values(ascending = False)"
   ]
  },
  {
   "cell_type": "markdown",
   "metadata": {},
   "source": [
    "<a id='cat'></a>\n",
    "## Categorical Features"
   ]
  },
  {
   "cell_type": "code",
   "execution_count": 14,
   "metadata": {},
   "outputs": [
    {
     "data": {
      "text/plain": [
       "MS SubClass        0\n",
       "Overall Qual       0\n",
       "Overall Cond       0\n",
       "Year Built         0\n",
       "Year Remod/Add     0\n",
       "Garage Yr Blt     45\n",
       "Mo Sold            0\n",
       "Yr Sold            0\n",
       "dtype: int64"
      ]
     },
     "execution_count": 14,
     "metadata": {},
     "output_type": "execute_result"
    }
   ],
   "source": [
    "df[categorical_cols].isnull().sum()"
   ]
  },
  {
   "cell_type": "code",
   "execution_count": 15,
   "metadata": {},
   "outputs": [
    {
     "data": {
      "text/plain": [
       "Pool QC           875\n",
       "Misc Feature      838\n",
       "Alley             821\n",
       "Fence             707\n",
       "Fireplace Qu      422\n",
       "Garage Cond        45\n",
       "Garage Qual        45\n",
       "Garage Finish      45\n",
       "Garage Type        44\n",
       "BsmtFin Type 2     25\n",
       "Bsmt Cond          25\n",
       "Bsmt Exposure      25\n",
       "BsmtFin Type 1     25\n",
       "Bsmt Qual          25\n",
       "Mas Vnr Type        1\n",
       "Electrical          1\n",
       "Neighborhood        0\n",
       "Land Slope          0\n",
       "Condition 1         0\n",
       "Condition 2         0\n",
       "Sale Type           0\n",
       "Utilities           0\n",
       "Lot Config          0\n",
       "House Style         0\n",
       "Land Contour        0\n",
       "Lot Shape           0\n",
       "Street              0\n",
       "Bldg Type           0\n",
       "Foundation          0\n",
       "Roof Style          0\n",
       "Roof Matl           0\n",
       "Exterior 1st        0\n",
       "Exterior 2nd        0\n",
       "Exter Qual          0\n",
       "Exter Cond          0\n",
       "Heating             0\n",
       "Heating QC          0\n",
       "Central Air         0\n",
       "Kitchen Qual        0\n",
       "Functional          0\n",
       "Paved Drive         0\n",
       "MS Zoning           0\n",
       "dtype: int64"
      ]
     },
     "execution_count": 15,
     "metadata": {},
     "output_type": "execute_result"
    }
   ],
   "source": [
    "df[non_numeric_cols].isnull().sum().sort_values(ascending = False)"
   ]
  },
  {
   "cell_type": "markdown",
   "metadata": {},
   "source": [
    "#### Garage Yr Blt "
   ]
  },
  {
   "cell_type": "code",
   "execution_count": 16,
   "metadata": {},
   "outputs": [],
   "source": [
    "def Garage_Yr_Blt_filler(row):\n",
    "    \n",
    "    \"\"\"\n",
    "    Replace each row of 'Garage Yr Blt' column as following:\n",
    "        NA: 'no_garage'\n",
    "        >= 1975: 'new_garage'\n",
    "        < 1975: 'old_garage'\n",
    "    \n",
    "    Parameter:\n",
    "        - row: series/ ex) 'dataframe.apply(lf_filler, axis = 1)'\n",
    "    \"\"\"\n",
    "    \n",
    "    if np.isnan(row['Garage Yr Blt']):\n",
    "        fill = 'no_garage'\n",
    "        \n",
    "    elif row['Garage Yr Blt'] >= 1975:\n",
    "        fill = 'new_garage'\n",
    "        \n",
    "    else:\n",
    "        fill = 'old_garage'\n",
    "    return fill"
   ]
  },
  {
   "cell_type": "code",
   "execution_count": 17,
   "metadata": {
    "collapsed": true
   },
   "outputs": [],
   "source": [
    "df['Garage Yr Blt'] = df.apply(Garage_Yr_Blt_filler, axis = 1)"
   ]
  },
  {
   "cell_type": "code",
   "execution_count": 18,
   "metadata": {},
   "outputs": [
    {
     "data": {
      "text/plain": [
       "new_garage    458\n",
       "old_garage    376\n",
       "no_garage      45\n",
       "Name: Garage Yr Blt, dtype: int64"
      ]
     },
     "execution_count": 18,
     "metadata": {},
     "output_type": "execute_result"
    }
   ],
   "source": [
    "df['Garage Yr Blt'].value_counts()"
   ]
  },
  {
   "cell_type": "code",
   "execution_count": 19,
   "metadata": {
    "collapsed": true
   },
   "outputs": [],
   "source": [
    "df = pd.get_dummies(df, columns= ['Garage Yr Blt'], drop_first=True)"
   ]
  },
  {
   "cell_type": "markdown",
   "metadata": {},
   "source": [
    "#### Yr Sold - Year Built"
   ]
  },
  {
   "cell_type": "code",
   "execution_count": 20,
   "metadata": {
    "collapsed": true
   },
   "outputs": [],
   "source": [
    "# Create 'age_when_sold' column by df[Yr Sold] - df[Year Built]\n",
    "\n",
    "df['age_when_sold'] = df['Yr Sold'] - df['Year Built']"
   ]
  },
  {
   "cell_type": "code",
   "execution_count": 21,
   "metadata": {
    "collapsed": true
   },
   "outputs": [],
   "source": [
    "# Drop 'Yr Sold' and 'Year Built' as the two columns are correlated to 'age_when_sold'\n",
    "\n",
    "df = df.drop(['Yr Sold', 'Year Built'], axis = 1)"
   ]
  },
  {
   "cell_type": "markdown",
   "metadata": {},
   "source": [
    "#### Neighborhood\n",
    "- Average Sale Price in the train data set = 187579.71007846566\n",
    "- This value was used as a threshold to divide the neighborhoods into two groups (g_nbr, w_nbr)"
   ]
  },
  {
   "cell_type": "code",
   "execution_count": 22,
   "metadata": {
    "collapsed": true
   },
   "outputs": [],
   "source": [
    "g_nbr = ['Blmngtn', 'ClearCr', 'CollgCr', 'Crawfor', 'Gilbert', 'Greens',\n",
    "           'GrnHill', 'NWAmes', 'NoRidge', 'NridgHt', 'SawyerW', 'Somerst',\n",
    "           'StoneBr', 'Timber', 'Veenker']"
   ]
  },
  {
   "cell_type": "code",
   "execution_count": 23,
   "metadata": {
    "collapsed": true
   },
   "outputs": [],
   "source": [
    "b_nbr = ['Blueste', 'BrDale', 'BrkSide', 'Edwards', 'IDOTRR', 'Landmrk',\n",
    "       'MeadowV', 'Mitchel', 'NAmes', 'NPkVill', 'OldTown', 'SWISU',\n",
    "       'Sawyer'] "
   ]
  },
  {
   "cell_type": "code",
   "execution_count": 24,
   "metadata": {
    "collapsed": true
   },
   "outputs": [],
   "source": [
    "\"\"\"\n",
    "Binarize 'Neighborhood' column as following:\n",
    "    - 1: the average sale price of the property in the neighborhood is higer than overall average.\n",
    "    - 0: the average sale price of the property in the neighborhood is higer than overall average.\n",
    "\"\"\"\n",
    "\n",
    "df['Neighborhood'] = df['Neighborhood'].apply(lambda x: 1 if x in g_nbr else 0)"
   ]
  },
  {
   "cell_type": "code",
   "execution_count": 25,
   "metadata": {},
   "outputs": [
    {
     "data": {
      "text/plain": [
       "1    441\n",
       "0    438\n",
       "Name: Neighborhood, dtype: int64"
      ]
     },
     "execution_count": 25,
     "metadata": {},
     "output_type": "execute_result"
    }
   ],
   "source": [
    "df['Neighborhood'].value_counts()"
   ]
  },
  {
   "cell_type": "markdown",
   "metadata": {},
   "source": [
    "#### Central Air, Street\n",
    "    - These two features have two items each.\n",
    "    - Binarize them into 0 and 1"
   ]
  },
  {
   "cell_type": "code",
   "execution_count": 26,
   "metadata": {
    "collapsed": true
   },
   "outputs": [],
   "source": [
    "## Central Air\n",
    "df['Central Air'] = df['Central Air'].apply(lambda x: 1 if x == 'Y' else 0)"
   ]
  },
  {
   "cell_type": "code",
   "execution_count": 27,
   "metadata": {
    "collapsed": true
   },
   "outputs": [],
   "source": [
    "## Street\n",
    "df['Street'] = df['Street'].apply(lambda x: 1 if x == 'Pave' else 0)"
   ]
  },
  {
   "cell_type": "markdown",
   "metadata": {},
   "source": [
    "#### Columns with ranking items (ex. good, average, bad)\n",
    "    - Columns: 'Heating QC', 'Kitchen Qual', 'Exter Qual', 'Exter Cond'\n",
    "    - Assign numerical score"
   ]
  },
  {
   "cell_type": "code",
   "execution_count": 28,
   "metadata": {
    "collapsed": true
   },
   "outputs": [],
   "source": [
    "def unique_vals(df):\n",
    "    \"\"\"\n",
    "    Return dictionary that has\n",
    "         key == column names\n",
    "         value == the column's unique values\n",
    "    \"\"\"\n",
    "    \n",
    "    val_dic = {}\n",
    "    for col in df.columns:\n",
    "        val_dic.update({col: df[col].unique()})\n",
    "    return val_dic"
   ]
  },
  {
   "cell_type": "code",
   "execution_count": 29,
   "metadata": {
    "collapsed": true
   },
   "outputs": [],
   "source": [
    "# Make dictionary to turn string score to numerical score\n",
    "\n",
    "str_score_5 = ['Ex','Gd','TA','Fa', 'Po']\n",
    "num_score_5 = np.arange(5,-1,-1)\n",
    "score_5_dict = dict(zip(str_score_5, num_score_5))\n",
    "\n",
    "str_score_4 = ['Ex','Gd','TA','Fa']\n",
    "num_score_4 = np.arange(4,-1,-1)\n",
    "score_4_dict = dict(zip(str_score_4, num_score_4))"
   ]
  },
  {
   "cell_type": "code",
   "execution_count": 30,
   "metadata": {},
   "outputs": [
    {
     "data": {
      "text/plain": [
       "{'Exter Cond': array(['Fa', 'TA', 'Gd', 'Ex', 'Po'], dtype=object),\n",
       " 'Exter Qual': array(['TA', 'Gd', 'Fa', 'Ex'], dtype=object),\n",
       " 'Heating QC': array(['Gd', 'TA', 'Ex', 'Fa'], dtype=object),\n",
       " 'Kitchen Qual': array(['Fa', 'TA', 'Gd', 'Ex', 'Po'], dtype=object)}"
      ]
     },
     "execution_count": 30,
     "metadata": {},
     "output_type": "execute_result"
    }
   ],
   "source": [
    "# View unique values\n",
    "ranking_cols =['Heating QC', 'Kitchen Qual',\n",
    "                      'Exter Qual', 'Exter Cond']\n",
    "\n",
    "score_df = df.loc[:, ranking_cols]\n",
    "unique_vals(score_df)"
   ]
  },
  {
   "cell_type": "code",
   "execution_count": 31,
   "metadata": {
    "collapsed": true
   },
   "outputs": [],
   "source": [
    "# Turn string score to numerical score\n",
    "\n",
    "df['Exter Cond'] = df['Exter Cond'].map(score_5_dict)\n",
    "df['Heating QC'] = df['Heating QC'].map(score_5_dict)\n",
    "df['Kitchen Qual'] = df['Kitchen Qual'].map(score_4_dict)\n",
    "df['Exter Qual'] = df['Exter Qual'].map(score_4_dict)"
   ]
  },
  {
   "cell_type": "markdown",
   "metadata": {},
   "source": [
    "<a id='cat_clean_NA'></a>\n",
    "\n",
    "### Cleaning NA values"
   ]
  },
  {
   "cell_type": "code",
   "execution_count": 32,
   "metadata": {},
   "outputs": [
    {
     "data": {
      "text/plain": [
       "Pool QC           875\n",
       "Misc Feature      838\n",
       "Alley             821\n",
       "Fence             707\n",
       "Fireplace Qu      422\n",
       "Garage Cond        45\n",
       "Garage Finish      45\n",
       "Garage Qual        45\n",
       "Garage Type        44\n",
       "Bsmt Exposure      25\n",
       "Bsmt Cond          25\n",
       "Bsmt Qual          25\n",
       "BsmtFin Type 1     25\n",
       "BsmtFin Type 2     25\n",
       "Electrical          1\n",
       "Mas Vnr Type        1\n",
       "Kitchen Qual        1\n",
       "Utilities           0\n",
       "dtype: int64"
      ]
     },
     "execution_count": 32,
     "metadata": {},
     "output_type": "execute_result"
    }
   ],
   "source": [
    "df.isnull().sum().sort_values(ascending=False).head(18)"
   ]
  },
  {
   "cell_type": "markdown",
   "metadata": {},
   "source": [
    "Observation:\n",
    "\n",
    "- Meaning of all NA values in the columns are specified in the data dictionary.(http://jse.amstat.org/v19n3/decock/DataDocumentation.txt)\n",
    "- NA values in 'Misc Feature' means no miscellaneous feature not covered in other categories. This does not seem significant. Therefore, drop this column.\n",
    "\n",
    "Plan:\n",
    "\n",
    "- Drop 'Misc Feature' column.\n",
    "- Turn NA value in rest of the columns to a string that represents its meaning.\n",
    "- The columns are to be dummied out."
   ]
  },
  {
   "cell_type": "markdown",
   "metadata": {},
   "source": [
    "#### Misc Feature"
   ]
  },
  {
   "cell_type": "code",
   "execution_count": 33,
   "metadata": {
    "collapsed": true
   },
   "outputs": [],
   "source": [
    "df = df.drop('Misc Feature', axis = 1)"
   ]
  },
  {
   "cell_type": "markdown",
   "metadata": {},
   "source": [
    "#### Columns that NA values will be given a string value. (To be dummied)"
   ]
  },
  {
   "cell_type": "code",
   "execution_count": 34,
   "metadata": {
    "collapsed": true
   },
   "outputs": [],
   "source": [
    "null_cols = ['Pool QC', 'Alley', 'Fence',\n",
    "             'Fireplace Qu', 'Garage Finish',\n",
    "             'Garage Qual', 'Garage Cond', 'Garage Type',\n",
    "             'Bsmt Exposure', 'BsmtFin Type 2', 'Bsmt Qual',\n",
    "             'Bsmt Cond', 'BsmtFin Type 1', 'Mas Vnr Type']"
   ]
  },
  {
   "cell_type": "code",
   "execution_count": 35,
   "metadata": {},
   "outputs": [
    {
     "data": {
      "text/plain": [
       "Pool QC           875\n",
       "Alley             821\n",
       "Fence             707\n",
       "Fireplace Qu      422\n",
       "Garage Finish      45\n",
       "Garage Qual        45\n",
       "Garage Cond        45\n",
       "Garage Type        44\n",
       "Bsmt Exposure      25\n",
       "BsmtFin Type 2     25\n",
       "Bsmt Qual          25\n",
       "Bsmt Cond          25\n",
       "BsmtFin Type 1     25\n",
       "Mas Vnr Type        1\n",
       "dtype: int64"
      ]
     },
     "execution_count": 35,
     "metadata": {},
     "output_type": "execute_result"
    }
   ],
   "source": [
    "df[null_cols].isnull().sum()"
   ]
  },
  {
   "cell_type": "code",
   "execution_count": 36,
   "metadata": {
    "collapsed": true
   },
   "outputs": [],
   "source": [
    "for null_col in null_cols:\n",
    "    df[null_col] = df.loc[:,null_col].fillna('none')"
   ]
  },
  {
   "cell_type": "code",
   "execution_count": 37,
   "metadata": {},
   "outputs": [
    {
     "data": {
      "text/plain": [
       "Pool QC           0\n",
       "Alley             0\n",
       "Fence             0\n",
       "Fireplace Qu      0\n",
       "Garage Finish     0\n",
       "Garage Qual       0\n",
       "Garage Cond       0\n",
       "Garage Type       0\n",
       "Bsmt Exposure     0\n",
       "BsmtFin Type 2    0\n",
       "Bsmt Qual         0\n",
       "Bsmt Cond         0\n",
       "BsmtFin Type 1    0\n",
       "Mas Vnr Type      0\n",
       "dtype: int64"
      ]
     },
     "execution_count": 37,
     "metadata": {},
     "output_type": "execute_result"
    }
   ],
   "source": [
    "df[null_cols].isnull().sum()"
   ]
  },
  {
   "cell_type": "code",
   "execution_count": 38,
   "metadata": {},
   "outputs": [
    {
     "data": {
      "text/plain": [
       "Electrical        1\n",
       "Kitchen Qual      1\n",
       "age_when_sold     0\n",
       "Exter Qual        0\n",
       "Roof Style        0\n",
       "Roof Matl         0\n",
       "Exterior 1st      0\n",
       "Exterior 2nd      0\n",
       "Mas Vnr Type      0\n",
       "Mas Vnr Area      0\n",
       "Exter Cond        0\n",
       "Bsmt Unf SF       0\n",
       "Foundation        0\n",
       "Bsmt Qual         0\n",
       "Bsmt Cond         0\n",
       "Bsmt Exposure     0\n",
       "BsmtFin Type 1    0\n",
       "BsmtFin SF 1      0\n",
       "dtype: int64"
      ]
     },
     "execution_count": 38,
     "metadata": {},
     "output_type": "execute_result"
    }
   ],
   "source": [
    "df.isnull().sum().sort_values(ascending=False).head(18)"
   ]
  },
  {
   "cell_type": "markdown",
   "metadata": {},
   "source": [
    "#### Electrical, Kitchen Qual columns did not have NA in the train set.\n",
    "    - Kitchen Qual's NA -> 1\n",
    "    - Electrical's NA -> 'Mix'"
   ]
  },
  {
   "cell_type": "code",
   "execution_count": 39,
   "metadata": {},
   "outputs": [
    {
     "data": {
      "text/plain": [
       "0      FuseP\n",
       "1      SBrkr\n",
       "2      SBrkr\n",
       "3      SBrkr\n",
       "4      SBrkr\n",
       "       ...  \n",
       "874    SBrkr\n",
       "875    SBrkr\n",
       "876    SBrkr\n",
       "877    SBrkr\n",
       "878    SBrkr\n",
       "Name: Electrical, Length: 879, dtype: object"
      ]
     },
     "execution_count": 39,
     "metadata": {},
     "output_type": "execute_result"
    }
   ],
   "source": [
    "df.loc[:,'Electrical']"
   ]
  },
  {
   "cell_type": "code",
   "execution_count": 40,
   "metadata": {},
   "outputs": [
    {
     "data": {
      "text/plain": [
       "0      1.0\n",
       "1      2.0\n",
       "2      3.0\n",
       "3      2.0\n",
       "4      2.0\n",
       "      ... \n",
       "874    2.0\n",
       "875    3.0\n",
       "876    2.0\n",
       "877    2.0\n",
       "878    2.0\n",
       "Name: Kitchen Qual, Length: 879, dtype: float64"
      ]
     },
     "execution_count": 40,
     "metadata": {},
     "output_type": "execute_result"
    }
   ],
   "source": [
    "df.loc[:,'Kitchen Qual']"
   ]
  },
  {
   "cell_type": "code",
   "execution_count": 41,
   "metadata": {
    "collapsed": true
   },
   "outputs": [],
   "source": [
    "df['Kitchen Qual'] = df.loc[:,'Kitchen Qual'].fillna(1)"
   ]
  },
  {
   "cell_type": "code",
   "execution_count": 42,
   "metadata": {},
   "outputs": [
    {
     "data": {
      "text/plain": [
       "array([1., 2., 3., 4.])"
      ]
     },
     "execution_count": 42,
     "metadata": {},
     "output_type": "execute_result"
    }
   ],
   "source": [
    "df['Kitchen Qual'].unique()"
   ]
  },
  {
   "cell_type": "code",
   "execution_count": 43,
   "metadata": {},
   "outputs": [
    {
     "data": {
      "text/plain": [
       "array(['FuseP', 'SBrkr', 'FuseA', 'FuseF', nan], dtype=object)"
      ]
     },
     "execution_count": 43,
     "metadata": {},
     "output_type": "execute_result"
    }
   ],
   "source": [
    "df['Electrical'].unique()"
   ]
  },
  {
   "cell_type": "code",
   "execution_count": 44,
   "metadata": {
    "collapsed": true
   },
   "outputs": [],
   "source": [
    "df['Electrical'] = df.loc[:,'Electrical'].fillna('FuseP')"
   ]
  },
  {
   "cell_type": "code",
   "execution_count": 45,
   "metadata": {},
   "outputs": [
    {
     "data": {
      "text/plain": [
       "array(['FuseP', 'SBrkr', 'FuseA', 'FuseF'], dtype=object)"
      ]
     },
     "execution_count": 45,
     "metadata": {},
     "output_type": "execute_result"
    }
   ],
   "source": [
    "df['Electrical'].unique()"
   ]
  },
  {
   "cell_type": "markdown",
   "metadata": {},
   "source": [
    "<a id='cat_dummy'></a>\n",
    "\n",
    "### Get Dummy Variables (Categorical Features Only)"
   ]
  },
  {
   "cell_type": "code",
   "execution_count": 46,
   "metadata": {
    "collapsed": true
   },
   "outputs": [],
   "source": [
    "to_be_dummy_cols = df.loc[:, df.dtypes == object].columns"
   ]
  },
  {
   "cell_type": "code",
   "execution_count": 47,
   "metadata": {},
   "outputs": [
    {
     "data": {
      "text/plain": [
       "Index(['MS Zoning', 'Alley', 'Lot Shape', 'Land Contour', 'Utilities',\n",
       "       'Lot Config', 'Land Slope', 'Condition 1', 'Condition 2', 'Bldg Type',\n",
       "       'House Style', 'Roof Style', 'Roof Matl', 'Exterior 1st',\n",
       "       'Exterior 2nd', 'Mas Vnr Type', 'Foundation', 'Bsmt Qual', 'Bsmt Cond',\n",
       "       'Bsmt Exposure', 'BsmtFin Type 1', 'BsmtFin Type 2', 'Heating',\n",
       "       'Electrical', 'Functional', 'Fireplace Qu', 'Garage Type',\n",
       "       'Garage Finish', 'Garage Qual', 'Garage Cond', 'Paved Drive', 'Pool QC',\n",
       "       'Fence', 'Sale Type'],\n",
       "      dtype='object')"
      ]
     },
     "execution_count": 47,
     "metadata": {},
     "output_type": "execute_result"
    }
   ],
   "source": [
    "to_be_dummy_cols"
   ]
  },
  {
   "cell_type": "code",
   "execution_count": 48,
   "metadata": {
    "collapsed": true
   },
   "outputs": [],
   "source": [
    "df = pd.get_dummies(df, columns= to_be_dummy_cols, drop_first=True)"
   ]
  },
  {
   "cell_type": "markdown",
   "metadata": {},
   "source": [
    "<a id='feat_eng'></a>\n",
    "\n",
    "### Feature Engineering (Get Interaction Terms)\n",
    "\n",
    "- Create interaction terms with qunatatative features (numerical quantative columns, columns with numerical ranking score)."
   ]
  },
  {
   "cell_type": "code",
   "execution_count": 49,
   "metadata": {
    "collapsed": true
   },
   "outputs": [],
   "source": [
    "# Generate list of column names to create interaction terms with\n",
    "interact_term_cols = numeric_cols + ranking_cols + ['age_when_sold']"
   ]
  },
  {
   "cell_type": "code",
   "execution_count": 50,
   "metadata": {},
   "outputs": [],
   "source": [
    "# Remove columns that are not needed\n",
    "cols_to_remove = ['Id', 'PID', 'Garage Yr Blt', 'Yr Sold', 'Year Built']\n",
    "for col in cols_to_remove:\n",
    "    interact_term_cols.remove(col)"
   ]
  },
  {
   "cell_type": "code",
   "execution_count": 51,
   "metadata": {
    "collapsed": true
   },
   "outputs": [],
   "source": [
    "# Make dataframe of features to make interaction terms with\n",
    "X_interact_df = df[interact_term_cols]"
   ]
  },
  {
   "cell_type": "code",
   "execution_count": 53,
   "metadata": {},
   "outputs": [
    {
     "name": "stderr",
     "output_type": "stream",
     "text": [
      "/Users/dae/anaconda3/lib/python3.6/site-packages/sklearn/preprocessing/data.py:1263: FutureWarning: arrays to stack must be passed as a \"sequence\" type such as list or tuple. Support for non-sequence iterables such as generators is deprecated as of NumPy 1.16 and will raise an error in the future.\n",
      "  for c in combinations)\n"
     ]
    }
   ],
   "source": [
    "poly = PolynomialFeatures(degree=2, interaction_only=False, include_bias=False)\n",
    "X_interact = poly.fit_transform(X_interact_df)\n",
    "poly_df = pd.DataFrame(X_interact, columns = poly.get_feature_names(interact_term_cols))"
   ]
  },
  {
   "cell_type": "code",
   "execution_count": 54,
   "metadata": {
    "collapsed": true
   },
   "outputs": [],
   "source": [
    "# merge interaction terms to the original dataframe\n",
    "\n",
    "df = pd.merge(df, poly_df, on=df.index).drop('key_0', axis =1)"
   ]
  },
  {
   "cell_type": "code",
   "execution_count": 55,
   "metadata": {
    "collapsed": true
   },
   "outputs": [],
   "source": [
    "fin_cols = ['Neighborhood', 'MS Zoning_RM', 'Land Contour_HLS',\n",
    "       'Roof Style_Mansard', 'Exterior 1st_BrkFace', 'Bsmt Exposure_Gd',\n",
    "       'Functional_Typ', 'Sale Type_New', 'MS SubClass Kitchen AbvGr',\n",
    "       'Lot Frontage Overall Qual', 'Lot Area Overall Qual',\n",
    "       'Lot Area Screen Porch', 'Lot Area Heating QC', 'Overall Qual^2',\n",
    "       'Overall Qual Gr Liv Area', 'Overall Qual Bsmt Full Bath',\n",
    "       'Overall Qual TotRms AbvGrd', 'Overall Qual Fireplaces',\n",
    "       'Overall Qual Garage Area', 'Overall Qual Exter Qual',\n",
    "       'Overall Qual age_when_sold', 'Overall Cond Total Bsmt SF',\n",
    "       'Overall Cond 1st Flr SF', 'Overall Cond Gr Liv Area',\n",
    "       'Year Remod/Add^2', 'Mas Vnr Area Garage Cars',\n",
    "       'Mas Vnr Area Pool Area', 'Mas Vnr Area Misc Val',\n",
    "       'BsmtFin SF 1 Garage Cars', 'BsmtFin SF 1 Mo Sold',\n",
    "       'BsmtFin SF 1 Heating QC', 'BsmtFin SF 2 Pool Area',\n",
    "       'Total Bsmt SF Garage Cars', '1st Flr SF Heating QC',\n",
    "       'Gr Liv Area Heating QC', 'Gr Liv Area Kitchen Qual',\n",
    "       'Bsmt Full Bath Exter Qual', 'Bsmt Half Bath Misc Val',\n",
    "       'Full Bath Wood Deck SF', 'Kitchen AbvGr age_when_sold',\n",
    "       'Fireplaces Garage Cars', 'Fireplaces Exter Qual',\n",
    "       'Garage Area Kitchen Qual', 'Kitchen Qual age_when_sold',\n",
    "       'Exter Qual age_when_sold']"
   ]
  },
  {
   "cell_type": "code",
   "execution_count": 56,
   "metadata": {},
   "outputs": [],
   "source": [
    "df_n = df[['Id']+fin_cols]"
   ]
  },
  {
   "cell_type": "code",
   "execution_count": 58,
   "metadata": {
    "collapsed": true
   },
   "outputs": [],
   "source": [
    "df_n.to_csv('./datasets/clean_kaggle.csv', index = False)"
   ]
  },
  {
   "cell_type": "code",
   "execution_count": null,
   "metadata": {
    "collapsed": true
   },
   "outputs": [],
   "source": []
  }
 ],
 "metadata": {
  "kernelspec": {
   "display_name": "Python 3",
   "language": "python",
   "name": "python3"
  },
  "language_info": {
   "codemirror_mode": {
    "name": "ipython",
    "version": 3
   },
   "file_extension": ".py",
   "mimetype": "text/x-python",
   "name": "python",
   "nbconvert_exporter": "python",
   "pygments_lexer": "ipython3",
   "version": "3.6.9"
  }
 },
 "nbformat": 4,
 "nbformat_minor": 2
}
