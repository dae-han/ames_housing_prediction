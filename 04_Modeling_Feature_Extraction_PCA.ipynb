{
 "cells": [
  {
   "cell_type": "markdown",
   "metadata": {},
   "source": [
    "# 04. Modeling (Feature Elimination)\n",
    "\n",
    "---\n",
    "\n",
    "In this notebook, I build Principal Component Regression models with 1) dataset from `02_Feature_Engineering`, which all engineered terms were added and 2) dataset from `03_Modeling_Feature_Elimination`, which unimportant features were eliminated from the first dataset by using L1 penalty from Lasso Regression."
   ]
  },
  {
   "cell_type": "code",
   "execution_count": 1,
   "metadata": {},
   "outputs": [],
   "source": [
    "# Import libraries\n",
    "\n",
    "import pandas as pd\n",
    "import numpy as np\n",
    "import matplotlib.pyplot as plt\n",
    "import seaborn as sns\n",
    "import math\n",
    "import functions as fc\n",
    "\n",
    "from sklearn.model_selection import train_test_split, cross_val_score\n",
    "from sklearn.preprocessing import StandardScaler, PolynomialFeatures\n",
    "from sklearn.linear_model import LinearRegression, Ridge, Lasso, RidgeCV, LassoCV, ElasticNetCV\n",
    "from sklearn.decomposition import PCA\n",
    "from sklearn import metrics\n",
    "\n",
    "%matplotlib inline"
   ]
  },
  {
   "cell_type": "markdown",
   "metadata": {},
   "source": [
    "## Dataset 1 (All Features)\n",
    "This dataset was prepared in `02_Feature_Eningeering` notebook. This dataset has all engineered features in addition to all original features"
   ]
  },
  {
   "cell_type": "code",
   "execution_count": 2,
   "metadata": {},
   "outputs": [],
   "source": [
    "# Read in train data\n",
    "\n",
    "df = pd.read_csv('./datasets/clean_train_engineered_terms.csv')"
   ]
  },
  {
   "cell_type": "code",
   "execution_count": 3,
   "metadata": {},
   "outputs": [
    {
     "data": {
      "text/plain": [
       "(2051, 25203)"
      ]
     },
     "execution_count": 3,
     "metadata": {},
     "output_type": "execute_result"
    }
   ],
   "source": [
    "df.shape"
   ]
  },
  {
   "cell_type": "code",
   "execution_count": 4,
   "metadata": {},
   "outputs": [],
   "source": [
    "X = df.drop(['Id', 'PID', 'SalePrice'], axis = 1)\n",
    "y = df['SalePrice']"
   ]
  },
  {
   "cell_type": "markdown",
   "metadata": {},
   "source": [
    "Perform train, test split and scale the dataset before Principal Component Analysis (PCA)"
   ]
  },
  {
   "cell_type": "code",
   "execution_count": 5,
   "metadata": {},
   "outputs": [],
   "source": [
    "rs = 112\n",
    "\n",
    "# Instantiate our StandardScaler.\n",
    "ss = StandardScaler()\n",
    "\n",
    "X_train, X_test, y_train, y_test = train_test_split(X, y, random_state = rs)\n",
    "\n",
    "# Scale X_Train\n",
    "X_train_sc = ss.fit_transform(X_train)\n",
    "\n",
    "# Scale X_Test\n",
    "X_test_sc = ss.transform(X_test)"
   ]
  },
  {
   "cell_type": "code",
   "execution_count": 6,
   "metadata": {},
   "outputs": [
    {
     "data": {
      "text/plain": [
       "PCA(copy=True, iterated_power='auto', n_components=None, random_state=None,\n",
       "    svd_solver='auto', tol=0.0, whiten=False)"
      ]
     },
     "execution_count": 6,
     "metadata": {},
     "output_type": "execute_result"
    }
   ],
   "source": [
    "# Instantiate PCA.\n",
    "pca = PCA()\n",
    "# Fit PCA\n",
    "pca.fit(X_train_sc)"
   ]
  },
  {
   "cell_type": "code",
   "execution_count": 7,
   "metadata": {},
   "outputs": [],
   "source": [
    "# Transform PCA on the training data.\n",
    "Z_train = pca.transform(X_train_sc)\n",
    "\n",
    "Z_test = pca.transform(X_test_sc)"
   ]
  },
  {
   "cell_type": "code",
   "execution_count": 8,
   "metadata": {},
   "outputs": [
    {
     "data": {
      "text/html": [
       "<div>\n",
       "<style scoped>\n",
       "    .dataframe tbody tr th:only-of-type {\n",
       "        vertical-align: middle;\n",
       "    }\n",
       "\n",
       "    .dataframe tbody tr th {\n",
       "        vertical-align: top;\n",
       "    }\n",
       "\n",
       "    .dataframe thead th {\n",
       "        text-align: right;\n",
       "    }\n",
       "</style>\n",
       "<table border=\"1\" class=\"dataframe\">\n",
       "  <thead>\n",
       "    <tr style=\"text-align: right;\">\n",
       "      <th></th>\n",
       "      <th>0</th>\n",
       "      <th>1</th>\n",
       "      <th>2</th>\n",
       "      <th>3</th>\n",
       "      <th>4</th>\n",
       "      <th>5</th>\n",
       "      <th>6</th>\n",
       "      <th>7</th>\n",
       "      <th>8</th>\n",
       "      <th>9</th>\n",
       "      <th>...</th>\n",
       "      <th>1528</th>\n",
       "      <th>1529</th>\n",
       "      <th>1530</th>\n",
       "      <th>1531</th>\n",
       "      <th>1532</th>\n",
       "      <th>1533</th>\n",
       "      <th>1534</th>\n",
       "      <th>1535</th>\n",
       "      <th>1536</th>\n",
       "      <th>1537</th>\n",
       "    </tr>\n",
       "  </thead>\n",
       "  <tbody>\n",
       "    <tr>\n",
       "      <th>0</th>\n",
       "      <td>23.646289</td>\n",
       "      <td>-2.618827</td>\n",
       "      <td>-13.767287</td>\n",
       "      <td>-17.963663</td>\n",
       "      <td>-1.964502</td>\n",
       "      <td>3.316205</td>\n",
       "      <td>0.217721</td>\n",
       "      <td>1.508359</td>\n",
       "      <td>-2.461785</td>\n",
       "      <td>1.137101</td>\n",
       "      <td>...</td>\n",
       "      <td>-0.003001</td>\n",
       "      <td>0.001278</td>\n",
       "      <td>0.000157</td>\n",
       "      <td>-0.000697</td>\n",
       "      <td>-0.000355</td>\n",
       "      <td>-0.000635</td>\n",
       "      <td>-0.001121</td>\n",
       "      <td>-1.273821e-06</td>\n",
       "      <td>4.621303e-14</td>\n",
       "      <td>-1.554312e-15</td>\n",
       "    </tr>\n",
       "    <tr>\n",
       "      <th>1</th>\n",
       "      <td>-19.030450</td>\n",
       "      <td>18.218628</td>\n",
       "      <td>-9.556384</td>\n",
       "      <td>-14.827636</td>\n",
       "      <td>1.244923</td>\n",
       "      <td>-6.928042</td>\n",
       "      <td>-17.559337</td>\n",
       "      <td>11.592378</td>\n",
       "      <td>-2.433828</td>\n",
       "      <td>-0.181161</td>\n",
       "      <td>...</td>\n",
       "      <td>-0.050907</td>\n",
       "      <td>0.047616</td>\n",
       "      <td>-0.018166</td>\n",
       "      <td>-0.010820</td>\n",
       "      <td>0.009490</td>\n",
       "      <td>0.000002</td>\n",
       "      <td>0.004909</td>\n",
       "      <td>-1.065034e-04</td>\n",
       "      <td>-3.469447e-14</td>\n",
       "      <td>2.331468e-15</td>\n",
       "    </tr>\n",
       "    <tr>\n",
       "      <th>2</th>\n",
       "      <td>-24.283959</td>\n",
       "      <td>10.808308</td>\n",
       "      <td>-4.811671</td>\n",
       "      <td>-7.049423</td>\n",
       "      <td>7.234242</td>\n",
       "      <td>-14.152412</td>\n",
       "      <td>-5.818647</td>\n",
       "      <td>7.230979</td>\n",
       "      <td>4.484563</td>\n",
       "      <td>-7.032775</td>\n",
       "      <td>...</td>\n",
       "      <td>-0.044067</td>\n",
       "      <td>0.066571</td>\n",
       "      <td>-0.083929</td>\n",
       "      <td>0.019417</td>\n",
       "      <td>-0.016341</td>\n",
       "      <td>-0.003363</td>\n",
       "      <td>0.015950</td>\n",
       "      <td>-2.893721e-04</td>\n",
       "      <td>-1.498801e-15</td>\n",
       "      <td>2.046974e-15</td>\n",
       "    </tr>\n",
       "    <tr>\n",
       "      <th>3</th>\n",
       "      <td>8.816447</td>\n",
       "      <td>-16.602130</td>\n",
       "      <td>0.876916</td>\n",
       "      <td>-0.406625</td>\n",
       "      <td>0.966570</td>\n",
       "      <td>15.729748</td>\n",
       "      <td>-10.978971</td>\n",
       "      <td>-13.124946</td>\n",
       "      <td>-2.604664</td>\n",
       "      <td>-1.942068</td>\n",
       "      <td>...</td>\n",
       "      <td>-0.002197</td>\n",
       "      <td>0.000178</td>\n",
       "      <td>0.000219</td>\n",
       "      <td>-0.001987</td>\n",
       "      <td>-0.002512</td>\n",
       "      <td>0.001649</td>\n",
       "      <td>-0.000133</td>\n",
       "      <td>-3.807228e-06</td>\n",
       "      <td>6.050715e-14</td>\n",
       "      <td>4.302114e-16</td>\n",
       "    </tr>\n",
       "    <tr>\n",
       "      <th>4</th>\n",
       "      <td>-17.075123</td>\n",
       "      <td>-15.775845</td>\n",
       "      <td>18.868727</td>\n",
       "      <td>25.696248</td>\n",
       "      <td>-3.533555</td>\n",
       "      <td>-4.921675</td>\n",
       "      <td>23.145130</td>\n",
       "      <td>36.373807</td>\n",
       "      <td>31.035715</td>\n",
       "      <td>-9.822331</td>\n",
       "      <td>...</td>\n",
       "      <td>-0.000121</td>\n",
       "      <td>-0.000134</td>\n",
       "      <td>-0.000015</td>\n",
       "      <td>0.000033</td>\n",
       "      <td>0.000034</td>\n",
       "      <td>-0.000056</td>\n",
       "      <td>-0.000012</td>\n",
       "      <td>6.165308e-08</td>\n",
       "      <td>-1.743050e-14</td>\n",
       "      <td>4.718448e-15</td>\n",
       "    </tr>\n",
       "  </tbody>\n",
       "</table>\n",
       "<p>5 rows × 1538 columns</p>\n",
       "</div>"
      ],
      "text/plain": [
       "        0          1          2          3         4          5          6     \\\n",
       "0  23.646289  -2.618827 -13.767287 -17.963663 -1.964502   3.316205   0.217721   \n",
       "1 -19.030450  18.218628  -9.556384 -14.827636  1.244923  -6.928042 -17.559337   \n",
       "2 -24.283959  10.808308  -4.811671  -7.049423  7.234242 -14.152412  -5.818647   \n",
       "3   8.816447 -16.602130   0.876916  -0.406625  0.966570  15.729748 -10.978971   \n",
       "4 -17.075123 -15.775845  18.868727  25.696248 -3.533555  -4.921675  23.145130   \n",
       "\n",
       "        7          8         9     ...      1528      1529      1530  \\\n",
       "0   1.508359  -2.461785  1.137101  ... -0.003001  0.001278  0.000157   \n",
       "1  11.592378  -2.433828 -0.181161  ... -0.050907  0.047616 -0.018166   \n",
       "2   7.230979   4.484563 -7.032775  ... -0.044067  0.066571 -0.083929   \n",
       "3 -13.124946  -2.604664 -1.942068  ... -0.002197  0.000178  0.000219   \n",
       "4  36.373807  31.035715 -9.822331  ... -0.000121 -0.000134 -0.000015   \n",
       "\n",
       "       1531      1532      1533      1534          1535          1536  \\\n",
       "0 -0.000697 -0.000355 -0.000635 -0.001121 -1.273821e-06  4.621303e-14   \n",
       "1 -0.010820  0.009490  0.000002  0.004909 -1.065034e-04 -3.469447e-14   \n",
       "2  0.019417 -0.016341 -0.003363  0.015950 -2.893721e-04 -1.498801e-15   \n",
       "3 -0.001987 -0.002512  0.001649 -0.000133 -3.807228e-06  6.050715e-14   \n",
       "4  0.000033  0.000034 -0.000056 -0.000012  6.165308e-08 -1.743050e-14   \n",
       "\n",
       "           1537  \n",
       "0 -1.554312e-15  \n",
       "1  2.331468e-15  \n",
       "2  2.046974e-15  \n",
       "3  4.302114e-16  \n",
       "4  4.718448e-15  \n",
       "\n",
       "[5 rows x 1538 columns]"
      ]
     },
     "execution_count": 8,
     "metadata": {},
     "output_type": "execute_result"
    }
   ],
   "source": [
    "# Check out the resulting data.\n",
    "\n",
    "pd.DataFrame(Z_train).head()"
   ]
  },
  {
   "cell_type": "markdown",
   "metadata": {},
   "source": [
    "Check how much each principal components explains the variance."
   ]
  },
  {
   "cell_type": "code",
   "execution_count": 9,
   "metadata": {
    "scrolled": false
   },
   "outputs": [
    {
     "name": "stdout",
     "output_type": "stream",
     "text": [
      "Explained variance (first 10 components): [0.04  0.021 0.021 0.017 0.014 0.013 0.011 0.01  0.009 0.009]\n",
      "\n",
      "Cumulative explained variance (first 10 components): [0.04  0.061 0.082 0.099 0.113 0.126 0.137 0.147 0.157 0.166]\n"
     ]
    }
   ],
   "source": [
    "# Pull the explained variance attribute.\n",
    "var_exp = pca.explained_variance_ratio_\n",
    "print(f'Explained variance (first 10 components): {np.round(var_exp[:10], 3)}') \n",
    "\n",
    "print('')\n",
    "\n",
    "# Generate the cumulative explained variance.\n",
    "cum_var_exp = np.cumsum(var_exp)\n",
    "print(f'Cumulative explained variance (first 10 components): {np.round(cum_var_exp[:10], 3)}')"
   ]
  },
  {
   "cell_type": "markdown",
   "metadata": {},
   "source": [
    "### Principal Component Regression (All features)\n",
    "From the PCA above, we saw first 10 components explains about 15 percent of the variance in the dataset. In this part, I examine what number of the component yields the best score."
   ]
  },
  {
   "cell_type": "code",
   "execution_count": 10,
   "metadata": {},
   "outputs": [
    {
     "name": "stdout",
     "output_type": "stream",
     "text": [
      "Training Score: 1.0\n",
      "Testing Score: -1.3694060669428015e+22\n"
     ]
    }
   ],
   "source": [
    "# Instantiate PCA \n",
    "pca = PCA()\n",
    "\n",
    "# Fit PCA to training data.\n",
    "pca.fit(X_train_sc)\n",
    "\n",
    "# Instantiate linear regression model.\n",
    "lm = LinearRegression()\n",
    "\n",
    "# Transform Z_train and Z_test.\n",
    "Z_train = pca.transform(X_train_sc)\n",
    "Z_test = pca.transform(X_test_sc)\n",
    "\n",
    "# Fit on Z_train.\n",
    "lm.fit(Z_train, y_train)\n",
    "\n",
    "# Score on training and testing sets.\n",
    "print(f'Training Score: {round(lm.score(Z_train, y_train),4)}')\n",
    "print(f'Testing Score: {round(lm.score(Z_test, y_test),4)}')"
   ]
  },
  {
   "cell_type": "markdown",
   "metadata": {},
   "source": [
    "When all principal components are included in the Linear Regression, the test score is negative. This indicates that the model performs very poorly and baseline model, which predicts every sale price to be the average, yields better prediction score.           \n",
    "Below, I attempt to find the number of principal components that returns the best prediction score (R2). In order to find score that has the best bias and variance trade off, I search for the number of principal components that returns the minimal difference between its train score and test score."
   ]
  },
  {
   "cell_type": "code",
   "execution_count": 30,
   "metadata": {},
   "outputs": [],
   "source": [
    "n_components_to_try = list(range(1, len(cum_var_exp),5))\n",
    "score_dict = {}\n",
    "\n",
    "for n_comp in n_components_to_try:\n",
    "    pca = PCA(n_components = n_comp)\n",
    "    # Fit PCA to training d2ata.\n",
    "    pca.fit(X_train_sc)\n",
    "\n",
    "    # Instantiate linear regression model.\n",
    "    lm = LinearRegression()\n",
    "\n",
    "    # Transform Z_train and Z_test.\n",
    "    Z_train = pca.transform(X_train_sc)\n",
    "    Z_test = pca.transform(X_test_sc)\n",
    "    \n",
    "    # Fit on Z_train.\n",
    "    lm.fit(Z_train, y_train)\n",
    "    \n",
    "    score_dict[n_comp] = (round(lm.score(Z_train, y_train),4), round(lm.score(Z_test, y_test),4))"
   ]
  },
  {
   "cell_type": "code",
   "execution_count": 31,
   "metadata": {},
   "outputs": [
    {
     "name": "stdout",
     "output_type": "stream",
     "text": [
      "Best n_component is 136 \n",
      ",which has train and test score of (0.9559, 0.8994)\n"
     ]
    }
   ],
   "source": [
    "best_diff = 1000\n",
    "best_score = 0\n",
    "for key in score_dict:\n",
    "    train = score_dict[key][0]\n",
    "    test = score_dict[key][1]\n",
    "    diff = abs(train - test)\n",
    "    if diff < best_diff:\n",
    "        best_diff = diff\n",
    "        best_score = key\n",
    "\n",
    "print(f\"Best n_component is {best_score} \\n,which has train and test score of {score_dict[best_score]}\")"
   ]
  },
  {
   "cell_type": "markdown",
   "metadata": {},
   "source": [
    "## Dataset 2 \n",
    "This dataset was prepared in notebook `03_Modeling_Feature_Elimination`. From the first dataset, which included all engineered features, unimportant features were eliminated using L1 penalty (Lasso regression)"
   ]
  },
  {
   "cell_type": "code",
   "execution_count": 21,
   "metadata": {},
   "outputs": [],
   "source": [
    "df_n = pd.read_csv(\"./datasets/lasso_selected_features.csv\")"
   ]
  },
  {
   "cell_type": "code",
   "execution_count": 22,
   "metadata": {},
   "outputs": [],
   "source": [
    "X = df_n\n",
    "y = df['SalePrice']"
   ]
  },
  {
   "cell_type": "code",
   "execution_count": 23,
   "metadata": {},
   "outputs": [],
   "source": [
    "rs = 112\n",
    "\n",
    "# Instantiate our StandardScaler.\n",
    "ss = StandardScaler()\n",
    "\n",
    "X_train, X_test, y_train, y_test = train_test_split(X, y, random_state = rs)\n",
    "\n",
    "# Scale X_Train\n",
    "X_train_sc = ss.fit_transform(X_train)\n",
    "\n",
    "# Scale X_Test\n",
    "X_test_sc = ss.transform(X_test)"
   ]
  },
  {
   "cell_type": "code",
   "execution_count": 24,
   "metadata": {},
   "outputs": [
    {
     "data": {
      "text/plain": [
       "PCA(copy=True, iterated_power='auto', n_components=None, random_state=None,\n",
       "    svd_solver='auto', tol=0.0, whiten=False)"
      ]
     },
     "execution_count": 24,
     "metadata": {},
     "output_type": "execute_result"
    }
   ],
   "source": [
    "# Instantiate PCA.\n",
    "pca = PCA()\n",
    "# Fit PCA\n",
    "pca.fit(X_train_sc)"
   ]
  },
  {
   "cell_type": "code",
   "execution_count": 25,
   "metadata": {},
   "outputs": [],
   "source": [
    "# Transform PCA on the training data.\n",
    "Z_train = pca.transform(X_train_sc)\n",
    "\n",
    "Z_test = pca.transform(X_test_sc)"
   ]
  },
  {
   "cell_type": "code",
   "execution_count": 26,
   "metadata": {},
   "outputs": [
    {
     "data": {
      "text/html": [
       "<div>\n",
       "<style scoped>\n",
       "    .dataframe tbody tr th:only-of-type {\n",
       "        vertical-align: middle;\n",
       "    }\n",
       "\n",
       "    .dataframe tbody tr th {\n",
       "        vertical-align: top;\n",
       "    }\n",
       "\n",
       "    .dataframe thead th {\n",
       "        text-align: right;\n",
       "    }\n",
       "</style>\n",
       "<table border=\"1\" class=\"dataframe\">\n",
       "  <thead>\n",
       "    <tr style=\"text-align: right;\">\n",
       "      <th></th>\n",
       "      <th>0</th>\n",
       "      <th>1</th>\n",
       "      <th>2</th>\n",
       "      <th>3</th>\n",
       "      <th>4</th>\n",
       "      <th>5</th>\n",
       "      <th>6</th>\n",
       "      <th>7</th>\n",
       "      <th>8</th>\n",
       "      <th>9</th>\n",
       "      <th>...</th>\n",
       "      <th>228</th>\n",
       "      <th>229</th>\n",
       "      <th>230</th>\n",
       "      <th>231</th>\n",
       "      <th>232</th>\n",
       "      <th>233</th>\n",
       "      <th>234</th>\n",
       "      <th>235</th>\n",
       "      <th>236</th>\n",
       "      <th>237</th>\n",
       "    </tr>\n",
       "  </thead>\n",
       "  <tbody>\n",
       "    <tr>\n",
       "      <th>0</th>\n",
       "      <td>-5.076489</td>\n",
       "      <td>-0.215177</td>\n",
       "      <td>-0.672125</td>\n",
       "      <td>1.927722</td>\n",
       "      <td>-3.669929</td>\n",
       "      <td>0.672852</td>\n",
       "      <td>0.650356</td>\n",
       "      <td>0.517998</td>\n",
       "      <td>-0.641761</td>\n",
       "      <td>0.748424</td>\n",
       "      <td>...</td>\n",
       "      <td>-2.259842e-17</td>\n",
       "      <td>6.825424e-19</td>\n",
       "      <td>1.739888e-18</td>\n",
       "      <td>9.969115e-18</td>\n",
       "      <td>-2.413578e-18</td>\n",
       "      <td>1.070734e-17</td>\n",
       "      <td>-1.794527e-17</td>\n",
       "      <td>4.190153e-18</td>\n",
       "      <td>6.256088e-18</td>\n",
       "      <td>-1.055202e-16</td>\n",
       "    </tr>\n",
       "    <tr>\n",
       "      <th>1</th>\n",
       "      <td>0.604858</td>\n",
       "      <td>-1.970915</td>\n",
       "      <td>3.365762</td>\n",
       "      <td>0.446520</td>\n",
       "      <td>2.030953</td>\n",
       "      <td>-3.143049</td>\n",
       "      <td>-0.537811</td>\n",
       "      <td>-0.277820</td>\n",
       "      <td>0.251185</td>\n",
       "      <td>1.365585</td>\n",
       "      <td>...</td>\n",
       "      <td>7.769028e-17</td>\n",
       "      <td>2.285327e-19</td>\n",
       "      <td>-5.280321e-18</td>\n",
       "      <td>2.867591e-18</td>\n",
       "      <td>1.324637e-17</td>\n",
       "      <td>-1.661455e-17</td>\n",
       "      <td>6.879091e-17</td>\n",
       "      <td>-3.744321e-17</td>\n",
       "      <td>2.786641e-18</td>\n",
       "      <td>-2.581759e-16</td>\n",
       "    </tr>\n",
       "    <tr>\n",
       "      <th>2</th>\n",
       "      <td>0.780148</td>\n",
       "      <td>-0.471615</td>\n",
       "      <td>1.524440</td>\n",
       "      <td>-0.308748</td>\n",
       "      <td>1.858811</td>\n",
       "      <td>-1.001132</td>\n",
       "      <td>-0.666676</td>\n",
       "      <td>0.563845</td>\n",
       "      <td>0.027066</td>\n",
       "      <td>-0.700446</td>\n",
       "      <td>...</td>\n",
       "      <td>1.220342e-16</td>\n",
       "      <td>-6.369367e-20</td>\n",
       "      <td>-2.678236e-18</td>\n",
       "      <td>1.241288e-18</td>\n",
       "      <td>-2.318711e-18</td>\n",
       "      <td>6.242634e-19</td>\n",
       "      <td>3.756589e-17</td>\n",
       "      <td>-1.662653e-17</td>\n",
       "      <td>1.666443e-17</td>\n",
       "      <td>-3.414426e-16</td>\n",
       "    </tr>\n",
       "    <tr>\n",
       "      <th>3</th>\n",
       "      <td>-2.456971</td>\n",
       "      <td>-0.049042</td>\n",
       "      <td>-1.769326</td>\n",
       "      <td>1.630013</td>\n",
       "      <td>0.276528</td>\n",
       "      <td>-1.169301</td>\n",
       "      <td>0.022713</td>\n",
       "      <td>0.305967</td>\n",
       "      <td>-0.776484</td>\n",
       "      <td>2.007972</td>\n",
       "      <td>...</td>\n",
       "      <td>2.217913e-17</td>\n",
       "      <td>1.248360e-18</td>\n",
       "      <td>-9.861076e-18</td>\n",
       "      <td>8.076070e-19</td>\n",
       "      <td>-1.237897e-18</td>\n",
       "      <td>-7.398833e-18</td>\n",
       "      <td>4.450478e-17</td>\n",
       "      <td>-8.948492e-17</td>\n",
       "      <td>-3.537728e-17</td>\n",
       "      <td>-2.980745e-16</td>\n",
       "    </tr>\n",
       "    <tr>\n",
       "      <th>4</th>\n",
       "      <td>2.965629</td>\n",
       "      <td>6.999733</td>\n",
       "      <td>-7.626371</td>\n",
       "      <td>-1.509651</td>\n",
       "      <td>1.112076</td>\n",
       "      <td>-3.411387</td>\n",
       "      <td>-1.136671</td>\n",
       "      <td>-3.350284</td>\n",
       "      <td>4.223536</td>\n",
       "      <td>-9.395278</td>\n",
       "      <td>...</td>\n",
       "      <td>-9.755383e-16</td>\n",
       "      <td>5.178213e-18</td>\n",
       "      <td>-5.608896e-18</td>\n",
       "      <td>6.458799e-18</td>\n",
       "      <td>1.590171e-17</td>\n",
       "      <td>5.991922e-18</td>\n",
       "      <td>-3.189289e-17</td>\n",
       "      <td>1.349032e-16</td>\n",
       "      <td>-4.615504e-18</td>\n",
       "      <td>-2.279294e-16</td>\n",
       "    </tr>\n",
       "  </tbody>\n",
       "</table>\n",
       "<p>5 rows × 238 columns</p>\n",
       "</div>"
      ],
      "text/plain": [
       "        0         1         2         3         4         5         6    \\\n",
       "0 -5.076489 -0.215177 -0.672125  1.927722 -3.669929  0.672852  0.650356   \n",
       "1  0.604858 -1.970915  3.365762  0.446520  2.030953 -3.143049 -0.537811   \n",
       "2  0.780148 -0.471615  1.524440 -0.308748  1.858811 -1.001132 -0.666676   \n",
       "3 -2.456971 -0.049042 -1.769326  1.630013  0.276528 -1.169301  0.022713   \n",
       "4  2.965629  6.999733 -7.626371 -1.509651  1.112076 -3.411387 -1.136671   \n",
       "\n",
       "        7         8         9    ...           228           229  \\\n",
       "0  0.517998 -0.641761  0.748424  ... -2.259842e-17  6.825424e-19   \n",
       "1 -0.277820  0.251185  1.365585  ...  7.769028e-17  2.285327e-19   \n",
       "2  0.563845  0.027066 -0.700446  ...  1.220342e-16 -6.369367e-20   \n",
       "3  0.305967 -0.776484  2.007972  ...  2.217913e-17  1.248360e-18   \n",
       "4 -3.350284  4.223536 -9.395278  ... -9.755383e-16  5.178213e-18   \n",
       "\n",
       "            230           231           232           233           234  \\\n",
       "0  1.739888e-18  9.969115e-18 -2.413578e-18  1.070734e-17 -1.794527e-17   \n",
       "1 -5.280321e-18  2.867591e-18  1.324637e-17 -1.661455e-17  6.879091e-17   \n",
       "2 -2.678236e-18  1.241288e-18 -2.318711e-18  6.242634e-19  3.756589e-17   \n",
       "3 -9.861076e-18  8.076070e-19 -1.237897e-18 -7.398833e-18  4.450478e-17   \n",
       "4 -5.608896e-18  6.458799e-18  1.590171e-17  5.991922e-18 -3.189289e-17   \n",
       "\n",
       "            235           236           237  \n",
       "0  4.190153e-18  6.256088e-18 -1.055202e-16  \n",
       "1 -3.744321e-17  2.786641e-18 -2.581759e-16  \n",
       "2 -1.662653e-17  1.666443e-17 -3.414426e-16  \n",
       "3 -8.948492e-17 -3.537728e-17 -2.980745e-16  \n",
       "4  1.349032e-16 -4.615504e-18 -2.279294e-16  \n",
       "\n",
       "[5 rows x 238 columns]"
      ]
     },
     "execution_count": 26,
     "metadata": {},
     "output_type": "execute_result"
    }
   ],
   "source": [
    "# Check out the resulting data.\n",
    "\n",
    "pd.DataFrame(Z_train).head()"
   ]
  },
  {
   "cell_type": "code",
   "execution_count": 27,
   "metadata": {
    "scrolled": true
   },
   "outputs": [
    {
     "name": "stdout",
     "output_type": "stream",
     "text": [
      "Explained variance (first 10 components): [0.13  0.039 0.032 0.029 0.026 0.026 0.024 0.024 0.022 0.02 ]\n",
      "\n",
      "Cumulative explained variance (first 10 components): [0.13  0.17  0.202 0.231 0.257 0.283 0.307 0.331 0.352 0.373]\n"
     ]
    }
   ],
   "source": [
    "# Pull the explained variance attribute.\n",
    "var_exp = pca.explained_variance_ratio_\n",
    "print(f'Explained variance (first 10 components): {np.round(var_exp[:10], 3)}') \n",
    "# if we use round without np., we can't use that on an array\n",
    "\n",
    "print('')\n",
    "\n",
    "# Generate the cumulative explained variance.\n",
    "cum_var_exp = np.cumsum(var_exp)\n",
    "print(f'Cumulative explained variance (first 10 components): {np.round(cum_var_exp[:10], 3)}')"
   ]
  },
  {
   "cell_type": "markdown",
   "metadata": {},
   "source": [
    "### Principal Component Regression (Features selected from Lasso Regression)¶\n",
    "From the PCA above, we saw first 10 components explains about 37 percent of the variance in the dataset 2. In this part, I examine what number of the component yields the best score."
   ]
  },
  {
   "cell_type": "code",
   "execution_count": 28,
   "metadata": {},
   "outputs": [],
   "source": [
    "n_components_to_try = list(range(1, len(cum_var_exp),1))\n",
    "score_dict = {}\n",
    "\n",
    "for n_comp in n_components_to_try:\n",
    "    pca = PCA(n_components = n_comp)\n",
    "    # Fit PCA to training data.\n",
    "    pca.fit(X_train_sc)\n",
    "\n",
    "    # Instantiate linear regression model.\n",
    "    lm = LinearRegression()\n",
    "\n",
    "    # Transform Z_train and Z_test.\n",
    "    Z_train = pca.transform(X_train_sc)\n",
    "    Z_test = pca.transform(X_test_sc)\n",
    "    \n",
    "    # Fit on Z_train.\n",
    "    lm.fit(Z_train, y_train)\n",
    "    \n",
    "    score_dict[n_comp] = (round(lm.score(Z_train, y_train),4), round(lm.score(Z_test, y_test),4))"
   ]
  },
  {
   "cell_type": "code",
   "execution_count": 29,
   "metadata": {},
   "outputs": [
    {
     "name": "stdout",
     "output_type": "stream",
     "text": [
      "Best n_component is 135 \n",
      ",which has train and test score of (0.9561, 0.8959)\n"
     ]
    }
   ],
   "source": [
    "best_diff = 100\n",
    "best_score = 0\n",
    "for key in score_dict:\n",
    "    train = score_dict[key][0]\n",
    "    test = score_dict[key][1]\n",
    "    diff = abs(train - test)\n",
    "    if diff < best_diff:\n",
    "        best_diff = diff\n",
    "        best_score = key\n",
    "\n",
    "print(f\"Best n_component is {best_score} \\n,which has train and test score of {score_dict[best_score]}\")"
   ]
  },
  {
   "cell_type": "markdown",
   "metadata": {},
   "source": [
    "Principal Component Regression on the two datasets performed the same (scores were rounded up to two decimal points). Both scores however were not as high as the best score from the original dataset.\n",
    "\n",
    "|                              | Dataset 1 | Dataset 2 |  \n",
    "|------------------------------|-----------|-----------|\n",
    "| Optimal Number of Components | 136       | 135       |\n",
    "| Train Score (R2)             | 0.96      | 0.96      |\n",
    "| Test Score (R2)              | 0.90      | 0.90      |"
   ]
  }
 ],
 "metadata": {
  "kernelspec": {
   "display_name": "Python 3",
   "language": "python",
   "name": "python3"
  },
  "language_info": {
   "codemirror_mode": {
    "name": "ipython",
    "version": 3
   },
   "file_extension": ".py",
   "mimetype": "text/x-python",
   "name": "python",
   "nbconvert_exporter": "python",
   "pygments_lexer": "ipython3",
   "version": "3.6.9"
  }
 },
 "nbformat": 4,
 "nbformat_minor": 2
}
